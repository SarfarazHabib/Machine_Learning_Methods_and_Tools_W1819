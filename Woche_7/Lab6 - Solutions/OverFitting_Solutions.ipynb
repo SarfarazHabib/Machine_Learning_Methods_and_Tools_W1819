{
 "cells": [
  {
   "cell_type": "markdown",
   "metadata": {},
   "source": [
    "# Overfitting and Regularization"
   ]
  },
  {
   "cell_type": "markdown",
   "metadata": {},
   "source": [
    "The fundamental issue in machine learning is the tension between optimization and generalization. \"Optimization\" refers to the process of adjusting a model to get the best performance possible on the training data, while \"generalization\" refers to how well the trained model would perform on data it has never seen before. The goal of the game is to get good generalization, of course, but you do not control generalization; you can only adjust the model based on its training data.\n",
    "\n",
    "At the beginning of training, optimization and generalization are correlated: the lower your loss on training data, the lower your loss on test data. While this is happening, your model is said to be under-fit: there is still progress to be made; the network hasn't yet modeled all relevant patterns in the training data. But after a certain number of iterations on the training data, generalization stops improving, validation metrics stall then start degrading: the model is then starting to over-fit, i.e. is it starting to learn patterns that are specific to the training data but that are misleading or irrelevant when it comes to new data.\n",
    "\n",
    "To prevent a model from learning misleading or irrelevant patterns found in the training data, the best solution is of course to get more training data. A model trained on more data will naturally generalize better. When that is no longer possible, the next best solution is to modulate the quantity of information that your model is allowed to store, or to add constraints on what information it is allowed to store. If a network can only afford to memorize a small number of patterns, the optimization process will force it to focus on the most prominent patterns, which have a better chance of generalizing well.\n",
    "\n",
    "The processing of fighting overfitting in this way is called regularization. Let's review some of the most common regularization techniques, and let's apply them in practice to improve our movie classification model from the previous chapter.\n",
    "\n",
    "In this Notebook we will be using the IMDB Dataset to explore some of the possible techniques to deal with overfitting."
   ]
  },
  {
   "cell_type": "markdown",
   "metadata": {},
   "source": [
    "As first thing, we import Keras package:"
   ]
  },
  {
   "cell_type": "markdown",
   "metadata": {},
   "source": [
    "** Import Keras and check the version.**"
   ]
  },
  {
   "cell_type": "code",
   "execution_count": 1,
   "metadata": {},
   "outputs": [
    {
     "name": "stderr",
     "output_type": "stream",
     "text": [
      "C:\\Users\\Zennaro\\AppData\\Local\\Continuum\\anaconda3\\lib\\site-packages\\h5py\\__init__.py:36: FutureWarning: Conversion of the second argument of issubdtype from `float` to `np.floating` is deprecated. In future, it will be treated as `np.float64 == np.dtype(float).type`.\n",
      "  from ._conv import register_converters as _register_converters\n",
      "Using TensorFlow backend.\n"
     ]
    },
    {
     "data": {
      "text/plain": [
       "'2.1.4'"
      ]
     },
     "execution_count": 1,
     "metadata": {},
     "output_type": "execute_result"
    }
   ],
   "source": [
    "import keras\n",
    "keras.__version__"
   ]
  },
  {
   "cell_type": "markdown",
   "metadata": {},
   "source": [
    "## Get the Data"
   ]
  },
  {
   "cell_type": "code",
   "execution_count": 2,
   "metadata": {},
   "outputs": [],
   "source": [
    "from keras.datasets import imdb\n",
    "import numpy as np\n",
    "\n",
    "(train_data, train_labels), (test_data, test_labels) = imdb.load_data(num_words=10000)\n",
    "\n",
    "def vectorize_sequences(sequences, dimension=10000):\n",
    "    # Create an all-zero matrix of shape (len(sequences), dimension)\n",
    "    results = np.zeros((len(sequences), dimension))\n",
    "    for i, sequence in enumerate(sequences):\n",
    "        results[i, sequence] = 1.  # set specific indices of results[i] to 1s\n",
    "    return results\n",
    "\n",
    "# Our vectorized training data\n",
    "x_train = vectorize_sequences(train_data)\n",
    "# Our vectorized test data\n",
    "x_test = vectorize_sequences(test_data)\n",
    "# Our vectorized labels\n",
    "y_train = np.asarray(train_labels).astype('float32')\n",
    "y_test = np.asarray(test_labels).astype('float32')"
   ]
  },
  {
   "cell_type": "markdown",
   "metadata": {},
   "source": [
    "## Overfitting\n",
    "### Reducing the Network's size"
   ]
  },
  {
   "cell_type": "markdown",
   "metadata": {},
   "source": [
    "The simplest way to prevent overfitting is to reduce the size of the model, i.e. the number of learnable parameters in the model (which is determined by the number of layers and the number of units per layer). In deep learning, the number of learnable parameters in a model is often referred to as the model's \"capacity\". Intuitively, a model with more parameters will have more \"memorization capacity\" and therefore will be able to easily learn a perfect dictionary-like mapping between training samples and their targets, a mapping without any generalization power. For instance, a model with 500,000 binary parameters could easily be made to learn the class of every digits in the MNIST training set: we would only need 10 binary parameters for each of the 50,000 digits. Such a model would be useless for classifying new digit samples. Always keep this in mind: deep learning models tend to be good at fitting to the training data, but the real challenge is generalization, not fitting.\n",
    "\n",
    "On the other hand, if the network has limited memorization resources, it will not be able to learn this mapping as easily, and thus, in order to minimize its loss, it will have to resort to learning compressed representations that have predictive power regarding the targets -- precisely the type of representations that we are interested in. At the same time, keep in mind that you should be using models that have enough parameters that they won't be underfitting: your model shouldn't be starved for memorization resources. There is a compromise to be found between \"too much capacity\" and \"not enough capacity\".\n",
    "\n",
    "Unfortunately, there is no magical formula to determine what the right number of layers is, or what the right size for each layer is. You will have to evaluate an array of different architectures (on your validation set, not on your test set, of course) in order to find the right model size for your data. The general workflow to find an appropriate model size is to start with relatively few layers and parameters, and start increasing the size of the layers or adding new layers until you see diminishing returns with regard to the validation loss.\n",
    "\n",
    "Let's try this on our movie review classification network. Our original network was as such:"
   ]
  },
  {
   "cell_type": "markdown",
   "metadata": {},
   "source": [
    "** Create the following network (call it `original_model`). **"
   ]
  },
  {
   "cell_type": "markdown",
   "metadata": {},
   "source": [
    "- Dense layer with 16 hidden units and an activation function;\n",
    "- Dense layer with 16 hidden units and an activation function;\n",
    "- Dense layer output with an activation function;"
   ]
  },
  {
   "cell_type": "code",
   "execution_count": 3,
   "metadata": {},
   "outputs": [],
   "source": [
    "from keras import models\n",
    "from keras import layers\n",
    "\n",
    "original_model = models.Sequential()\n",
    "original_model.add(layers.Dense(16, activation='relu', input_shape=(10000,)))\n",
    "original_model.add(layers.Dense(16, activation='relu'))\n",
    "original_model.add(layers.Dense(1, activation='sigmoid'))"
   ]
  },
  {
   "cell_type": "markdown",
   "metadata": {},
   "source": [
    "**Compile the model.**"
   ]
  },
  {
   "cell_type": "code",
   "execution_count": 4,
   "metadata": {},
   "outputs": [],
   "source": [
    "original_model.compile(optimizer='rmsprop',\n",
    "                       loss='binary_crossentropy',\n",
    "                       metrics=['acc'])"
   ]
  },
  {
   "cell_type": "markdown",
   "metadata": {},
   "source": [
    "** Now replace it with a smaller network (call it `smaller_model`), with less hidden units instead of 16 and compile it. Be sure to use the same optimizer and loss function of the `original_model`.**"
   ]
  },
  {
   "cell_type": "code",
   "execution_count": 5,
   "metadata": {},
   "outputs": [],
   "source": [
    "smaller_model = models.Sequential()\n",
    "smaller_model.add(layers.Dense(4, activation='relu', input_shape=(10000,)))\n",
    "smaller_model.add(layers.Dense(4, activation='relu'))\n",
    "smaller_model.add(layers.Dense(1, activation='sigmoid'))\n",
    "\n",
    "smaller_model.compile(optimizer='rmsprop',\n",
    "                      loss='binary_crossentropy',\n",
    "                      metrics=['acc'])"
   ]
  },
  {
   "cell_type": "markdown",
   "metadata": {},
   "source": [
    "** Fit the original model with 20 epochs and batch size 512. Use x_test and y_test for validation data.**"
   ]
  },
  {
   "cell_type": "code",
   "execution_count": 6,
   "metadata": {},
   "outputs": [
    {
     "name": "stdout",
     "output_type": "stream",
     "text": [
      "Train on 25000 samples, validate on 25000 samples\n",
      "Epoch 1/20\n",
      "25000/25000 [==============================] - 10s 398us/step - loss: 0.4440 - acc: 0.8251 - val_loss: 0.3286 - val_acc: 0.8835\n",
      "Epoch 2/20\n",
      "25000/25000 [==============================] - 10s 396us/step - loss: 0.2572 - acc: 0.9078 - val_loss: 0.2863 - val_acc: 0.8882\n",
      "Epoch 3/20\n",
      "25000/25000 [==============================] - 7s 272us/step - loss: 0.1993 - acc: 0.9290 - val_loss: 0.2820 - val_acc: 0.8889\n",
      "Epoch 4/20\n",
      "25000/25000 [==============================] - 6s 233us/step - loss: 0.1669 - acc: 0.9412 - val_loss: 0.2941 - val_acc: 0.8844\n",
      "Epoch 5/20\n",
      "25000/25000 [==============================] - 6s 245us/step - loss: 0.1437 - acc: 0.9500 - val_loss: 0.3116 - val_acc: 0.8804\n",
      "Epoch 6/20\n",
      "25000/25000 [==============================] - 6s 254us/step - loss: 0.1263 - acc: 0.9557 - val_loss: 0.3484 - val_acc: 0.8724\n",
      "Epoch 7/20\n",
      "25000/25000 [==============================] - 6s 257us/step - loss: 0.1121 - acc: 0.9611 - val_loss: 0.3582 - val_acc: 0.8733\n",
      "Epoch 8/20\n",
      "25000/25000 [==============================] - 8s 317us/step - loss: 0.0983 - acc: 0.9673 - val_loss: 0.3935 - val_acc: 0.8667\n",
      "Epoch 9/20\n",
      "25000/25000 [==============================] - 8s 315us/step - loss: 0.0848 - acc: 0.9716 - val_loss: 0.4136 - val_acc: 0.8670\n",
      "Epoch 10/20\n",
      "25000/25000 [==============================] - 9s 348us/step - loss: 0.0766 - acc: 0.9752 - val_loss: 0.4979 - val_acc: 0.8533\n",
      "Epoch 11/20\n",
      "25000/25000 [==============================] - 6s 258us/step - loss: 0.0694 - acc: 0.9777 - val_loss: 0.4995 - val_acc: 0.8572\n",
      "Epoch 12/20\n",
      "25000/25000 [==============================] - 7s 260us/step - loss: 0.0592 - acc: 0.9818 - val_loss: 0.5102 - val_acc: 0.8580\n",
      "Epoch 13/20\n",
      "25000/25000 [==============================] - 6s 241us/step - loss: 0.0514 - acc: 0.9841 - val_loss: 0.5332 - val_acc: 0.8586\n",
      "Epoch 14/20\n",
      "25000/25000 [==============================] - 6s 253us/step - loss: 0.0431 - acc: 0.9878 - val_loss: 0.5953 - val_acc: 0.8524\n",
      "Epoch 15/20\n",
      "25000/25000 [==============================] - 6s 253us/step - loss: 0.0397 - acc: 0.9881 - val_loss: 0.6007 - val_acc: 0.8548\n",
      "Epoch 16/20\n",
      "25000/25000 [==============================] - 6s 245us/step - loss: 0.0317 - acc: 0.9910 - val_loss: 0.6372 - val_acc: 0.8544\n",
      "Epoch 17/20\n",
      "25000/25000 [==============================] - 6s 248us/step - loss: 0.0268 - acc: 0.9929 - val_loss: 0.6812 - val_acc: 0.8516\n",
      "Epoch 18/20\n",
      "25000/25000 [==============================] - 6s 239us/step - loss: 0.0212 - acc: 0.9946 - val_loss: 0.8250 - val_acc: 0.8404\n",
      "Epoch 19/20\n",
      "25000/25000 [==============================] - 6s 234us/step - loss: 0.0223 - acc: 0.9942 - val_loss: 0.7519 - val_acc: 0.8496\n",
      "Epoch 20/20\n",
      "25000/25000 [==============================] - 6s 246us/step - loss: 0.0151 - acc: 0.9964 - val_loss: 0.8218 - val_acc: 0.8454\n"
     ]
    }
   ],
   "source": [
    "original_hist = original_model.fit(x_train, y_train,\n",
    "                                   epochs=20,\n",
    "                                   batch_size=512,\n",
    "                                   validation_data=(x_test, y_test))"
   ]
  },
  {
   "cell_type": "markdown",
   "metadata": {},
   "source": [
    "** Fit the smaller model with 20 epochs and batch size 512. Use x_test and y_test for validation data.**"
   ]
  },
  {
   "cell_type": "code",
   "execution_count": 7,
   "metadata": {},
   "outputs": [
    {
     "name": "stdout",
     "output_type": "stream",
     "text": [
      "Train on 25000 samples, validate on 25000 samples\n",
      "Epoch 1/20\n",
      "25000/25000 [==============================] - 7s 266us/step - loss: 0.5804 - acc: 0.7026 - val_loss: 0.5308 - val_acc: 0.7558\n",
      "Epoch 2/20\n",
      "25000/25000 [==============================] - 6s 248us/step - loss: 0.4843 - acc: 0.8449 - val_loss: 0.4872 - val_acc: 0.8299\n",
      "Epoch 3/20\n",
      "25000/25000 [==============================] - 6s 231us/step - loss: 0.4388 - acc: 0.8921 - val_loss: 0.4662 - val_acc: 0.8500\n",
      "Epoch 4/20\n",
      "25000/25000 [==============================] - 6s 237us/step - loss: 0.4077 - acc: 0.9154 - val_loss: 0.4541 - val_acc: 0.8626\n",
      "Epoch 5/20\n",
      "25000/25000 [==============================] - 6s 237us/step - loss: 0.3831 - acc: 0.9302 - val_loss: 0.4532 - val_acc: 0.8598\n",
      "Epoch 6/20\n",
      "25000/25000 [==============================] - 6s 249us/step - loss: 0.3620 - acc: 0.9409 - val_loss: 0.4431 - val_acc: 0.8716\n",
      "Epoch 7/20\n",
      "25000/25000 [==============================] - 6s 232us/step - loss: 0.3427 - acc: 0.9514 - val_loss: 0.4479 - val_acc: 0.8681\n",
      "Epoch 8/20\n",
      "25000/25000 [==============================] - 6s 252us/step - loss: 0.3263 - acc: 0.9562 - val_loss: 0.4544 - val_acc: 0.8662\n",
      "Epoch 9/20\n",
      "25000/25000 [==============================] - 6s 236us/step - loss: 0.3100 - acc: 0.9612 - val_loss: 0.4766 - val_acc: 0.8599\n",
      "Epoch 10/20\n",
      "25000/25000 [==============================] - 7s 263us/step - loss: 0.2958 - acc: 0.9662 - val_loss: 0.4757 - val_acc: 0.8619\n",
      "Epoch 11/20\n",
      "25000/25000 [==============================] - 6s 254us/step - loss: 0.2817 - acc: 0.9689 - val_loss: 0.4894 - val_acc: 0.8606\n",
      "Epoch 12/20\n",
      "25000/25000 [==============================] - 6s 238us/step - loss: 0.2687 - acc: 0.9720 - val_loss: 0.4841 - val_acc: 0.8615\n",
      "Epoch 13/20\n",
      "25000/25000 [==============================] - 6s 245us/step - loss: 0.2569 - acc: 0.9744 - val_loss: 0.5108 - val_acc: 0.8590\n",
      "Epoch 14/20\n",
      "25000/25000 [==============================] - 8s 307us/step - loss: 0.2454 - acc: 0.9766 - val_loss: 0.5486 - val_acc: 0.8543\n",
      "Epoch 15/20\n",
      "25000/25000 [==============================] - 6s 248us/step - loss: 0.2341 - acc: 0.9778 - val_loss: 0.5204 - val_acc: 0.8589\n",
      "Epoch 16/20\n",
      "25000/25000 [==============================] - 7s 285us/step - loss: 0.2237 - acc: 0.9801 - val_loss: 0.5584 - val_acc: 0.8566\n",
      "Epoch 17/20\n",
      "25000/25000 [==============================] - 7s 288us/step - loss: 0.2147 - acc: 0.9809 - val_loss: 0.5538 - val_acc: 0.8566\n",
      "Epoch 18/20\n",
      "25000/25000 [==============================] - 8s 309us/step - loss: 0.2051 - acc: 0.9825 - val_loss: 0.6366 - val_acc: 0.8498\n",
      "Epoch 19/20\n",
      "25000/25000 [==============================] - 8s 309us/step - loss: 0.1963 - acc: 0.9835 - val_loss: 0.6210 - val_acc: 0.8519\n",
      "Epoch 20/20\n",
      "25000/25000 [==============================] - 8s 335us/step - loss: 0.1886 - acc: 0.9843 - val_loss: 0.6726 - val_acc: 0.8480\n"
     ]
    }
   ],
   "source": [
    "smaller_model_hist = smaller_model.fit(x_train, y_train,\n",
    "                                       epochs=20,\n",
    "                                       batch_size=512,\n",
    "                                       validation_data=(x_test, y_test))"
   ]
  },
  {
   "cell_type": "markdown",
   "metadata": {},
   "source": [
    "** Compare the smaller model with the original one. Fill in the #TO DOs. **"
   ]
  },
  {
   "cell_type": "code",
   "execution_count": 8,
   "metadata": {},
   "outputs": [],
   "source": [
    "epochs = range(1, 21)\n",
    "original_val_loss = original_hist.history['val_loss'] # TO DO: take from the history dictionary of the original model the validation loss\n",
    "smaller_model_val_loss = smaller_model_hist.history['val_loss'] # TO DO: take from the history dictionary of the smaller model the validation loss"
   ]
  },
  {
   "cell_type": "code",
   "execution_count": 10,
   "metadata": {},
   "outputs": [
    {
     "data": {
      "image/png": "[encoded data removed]",
      "text/plain": [
       "<matplotlib.figure.Figure at 0x21f237da2b0>"
      ]
     },
     "metadata": {},
     "output_type": "display_data"
    }
   ],
   "source": [
    "import matplotlib.pyplot as plt\n",
    "\n",
    "# b+ is for \"blue cross\"\n",
    "plt.plot(epochs, original_val_loss, 'b+', label='Original model') # TO DO: use the original model validation loss\n",
    "# \"bo\" is for \"blue dot\"\n",
    "plt.plot(epochs, smaller_model_val_loss, 'bo', label='Smaller model') # TO DO: use the smaller model validation loss\n",
    "plt.xlabel('Epochs')\n",
    "plt.ylabel('Validation loss')\n",
    "plt.legend()\n",
    "\n",
    "plt.show()"
   ]
  },
  {
   "cell_type": "markdown",
   "metadata": {},
   "source": [
    "Here's a comparison of the validation losses of the original network and the smaller network. The dots are the validation loss values of the smaller network, and the crosses are the initial network."
   ]
  },
  {
   "cell_type": "markdown",
   "metadata": {},
   "source": [
    "** Considerations: what can you conclude from these results? Which of the two network starts to overfitting later? How are their performances? **"
   ]
  },
  {
   "cell_type": "markdown",
   "metadata": {},
   "source": [
    "As you can see, the smaller network starts overfitting later than the reference one (after 6 epochs rather than 4) and its performance degrades much more slowly once it starts overfitting."
   ]
  },
  {
   "cell_type": "markdown",
   "metadata": {},
   "source": [
    "Now, let's add to this benchmark a network that has much more capacity (far more than the problem would warrant)."
   ]
  },
  {
   "cell_type": "markdown",
   "metadata": {},
   "source": [
    "** Create a bigger network with moe than 16 hidden units (call it `bigger_model`) and compile it. **"
   ]
  },
  {
   "cell_type": "code",
   "execution_count": 11,
   "metadata": {},
   "outputs": [],
   "source": [
    "bigger_model = models.Sequential()\n",
    "bigger_model.add(layers.Dense(512, activation='relu', input_shape=(10000,)))\n",
    "bigger_model.add(layers.Dense(512, activation='relu'))\n",
    "bigger_model.add(layers.Dense(1, activation='sigmoid'))\n",
    "\n",
    "bigger_model.compile(optimizer='rmsprop',\n",
    "                     loss='binary_crossentropy',\n",
    "                     metrics=['acc'])"
   ]
  },
  {
   "cell_type": "markdown",
   "metadata": {},
   "source": [
    "** Fit the model with 20 epochs and batch of size 512.**"
   ]
  },
  {
   "cell_type": "code",
   "execution_count": 12,
   "metadata": {},
   "outputs": [
    {
     "name": "stdout",
     "output_type": "stream",
     "text": [
      "Train on 25000 samples, validate on 25000 samples\n",
      "Epoch 1/20\n",
      "25000/25000 [==============================] - 34s 1ms/step - loss: 0.4684 - acc: 0.7924 - val_loss: 0.3373 - val_acc: 0.8534\n",
      "Epoch 2/20\n",
      "25000/25000 [==============================] - 33s 1ms/step - loss: 0.2193 - acc: 0.9147 - val_loss: 0.3023 - val_acc: 0.8760\n",
      "Epoch 3/20\n",
      "25000/25000 [==============================] - 44s 2ms/step - loss: 0.1398 - acc: 0.9489 - val_loss: 0.2943 - val_acc: 0.8854\n",
      "Epoch 4/20\n",
      "25000/25000 [==============================] - 41s 2ms/step - loss: 0.0642 - acc: 0.9805 - val_loss: 0.4107 - val_acc: 0.8837\n",
      "Epoch 5/20\n",
      "25000/25000 [==============================] - 33s 1ms/step - loss: 0.0605 - acc: 0.9876 - val_loss: 0.5085 - val_acc: 0.8812\n",
      "Epoch 6/20\n",
      "25000/25000 [==============================] - 33s 1ms/step - loss: 0.0891 - acc: 0.9867 - val_loss: 0.4900 - val_acc: 0.8744\n",
      "Epoch 7/20\n",
      "25000/25000 [==============================] - 33s 1ms/step - loss: 0.0013 - acc: 1.0000 - val_loss: 0.6457 - val_acc: 0.8812\n",
      "Epoch 8/20\n",
      "25000/25000 [==============================] - 32s 1ms/step - loss: 0.0842 - acc: 0.9898 - val_loss: 0.6051 - val_acc: 0.8788\n",
      "Epoch 9/20\n",
      "25000/25000 [==============================] - 34s 1ms/step - loss: 0.0016 - acc: 0.9998 - val_loss: 0.6537 - val_acc: 0.8789\n",
      "Epoch 10/20\n",
      "25000/25000 [==============================] - 36s 1ms/step - loss: 0.0689 - acc: 0.9897 - val_loss: 0.7201 - val_acc: 0.8637\n",
      "Epoch 11/20\n",
      "25000/25000 [==============================] - 36s 1ms/step - loss: 5.8820e-04 - acc: 0.9999 - val_loss: 0.7135 - val_acc: 0.8779\n",
      "Epoch 12/20\n",
      "25000/25000 [==============================] - 38s 2ms/step - loss: 9.0279e-05 - acc: 1.0000 - val_loss: 0.7908 - val_acc: 0.8774\n",
      "Epoch 13/20\n",
      "25000/25000 [==============================] - 38s 2ms/step - loss: 1.1326e-05 - acc: 1.0000 - val_loss: 0.9182 - val_acc: 0.8785\n",
      "Epoch 14/20\n",
      "25000/25000 [==============================] - 40s 2ms/step - loss: 1.1470e-06 - acc: 1.0000 - val_loss: 0.9993 - val_acc: 0.8784\n",
      "Epoch 15/20\n",
      "25000/25000 [==============================] - 33s 1ms/step - loss: 2.7409e-07 - acc: 1.0000 - val_loss: 1.0474 - val_acc: 0.8794\n",
      "Epoch 16/20\n",
      "25000/25000 [==============================] - 34s 1ms/step - loss: 1.4141e-07 - acc: 1.0000 - val_loss: 1.0916 - val_acc: 0.8787\n",
      "Epoch 17/20\n",
      "25000/25000 [==============================] - 37s 1ms/step - loss: 1.2102e-07 - acc: 1.0000 - val_loss: 1.1075 - val_acc: 0.8789\n",
      "Epoch 18/20\n",
      "25000/25000 [==============================] - 32s 1ms/step - loss: 1.1566e-07 - acc: 1.0000 - val_loss: 1.1164 - val_acc: 0.8791\n",
      "Epoch 19/20\n",
      "25000/25000 [==============================] - 35s 1ms/step - loss: 1.1342e-07 - acc: 1.0000 - val_loss: 1.1239 - val_acc: 0.8790\n",
      "Epoch 20/20\n",
      "25000/25000 [==============================] - 34s 1ms/step - loss: 1.1222e-07 - acc: 1.0000 - val_loss: 1.1291 - val_acc: 0.8790\n"
     ]
    }
   ],
   "source": [
    "bigger_model_hist = bigger_model.fit(x_train, y_train,\n",
    "                                     epochs=20,\n",
    "                                     batch_size=512,\n",
    "                                     validation_data=(x_test, y_test))"
   ]
  },
  {
   "cell_type": "markdown",
   "metadata": {},
   "source": [
    "Let's see how the bigger network fares compared to the reference one. The dots are the validation loss values of the bigger network, and the crosses are the initial network."
   ]
  },
  {
   "cell_type": "markdown",
   "metadata": {},
   "source": [
    "** Compare the bigger model with the original one. Fill in the #TO DOs. **"
   ]
  },
  {
   "cell_type": "code",
   "execution_count": 13,
   "metadata": {},
   "outputs": [
    {
     "data": {
      "image/png": "[encoded data removed]",
      "text/plain": [
       "<matplotlib.figure.Figure at 0x21f1d965b00>"
      ]
     },
     "metadata": {},
     "output_type": "display_data"
    }
   ],
   "source": [
    "bigger_model_val_loss = bigger_model_hist.history['val_loss'] #TO DO: take from the history dictionary of the bigger model the validation loss\n",
    "\n",
    "plt.plot(epochs, original_val_loss, 'b+', label='Original model') #TO DO: use the original model validation loss\n",
    "plt.plot(epochs, bigger_model_val_loss, 'bo', label='Bigger model') #TO DO: use the bigger model validation loss\n",
    "plt.xlabel('Epochs')\n",
    "plt.ylabel('Validation loss')\n",
    "plt.legend()\n",
    "\n",
    "plt.show()"
   ]
  },
  {
   "cell_type": "markdown",
   "metadata": {},
   "source": [
    "** Considerations: what can you conclude from these results? Which of the two network starts to overfitting later? How are their performances? **"
   ]
  },
  {
   "cell_type": "markdown",
   "metadata": {},
   "source": [
    "The bigger network starts overfitting almost right away, after just one epoch, and overfits much more severely. Its validation loss is also more noisy."
   ]
  },
  {
   "cell_type": "markdown",
   "metadata": {},
   "source": [
    "** Compare the training loss of the bigger model and of the original one. Fill in the #TO DOs.**"
   ]
  },
  {
   "cell_type": "code",
   "execution_count": 14,
   "metadata": {},
   "outputs": [
    {
     "data": {
      "image/png": "[encoded data removed]",
      "text/plain": [
       "<matplotlib.figure.Figure at 0x21f238f2b70>"
      ]
     },
     "metadata": {},
     "output_type": "display_data"
    }
   ],
   "source": [
    "original_train_loss = original_hist.history['loss'] #TO DO: take from the history dictionary of the original model the training loss\n",
    "bigger_model_train_loss = bigger_model_hist.history['loss'] #TO DO: take from the history dictionary of the bigger model the training loss\n",
    "\n",
    "plt.plot(epochs, original_train_loss, 'b+', label='Original model') #TO DO: use the original model training loss\n",
    "plt.plot(epochs, bigger_model_train_loss, 'bo', label='Bigger model') #TO DO: use the smaller model training loss\n",
    "plt.xlabel('Epochs')\n",
    "plt.ylabel('Training loss')\n",
    "plt.legend()\n",
    "\n",
    "plt.show()"
   ]
  },
  {
   "cell_type": "markdown",
   "metadata": {},
   "source": [
    "** Considerations: what can you conclude from these results? How are their performances? **"
   ]
  },
  {
   "cell_type": "markdown",
   "metadata": {},
   "source": [
    "As you can see, the bigger network gets its training loss near zero very quickly. The more capacity the network has, the quicker it will be able to model the training data (resulting in a low training loss), but the more susceptible it is to overfitting (resulting in a large difference between the training and validation loss)."
   ]
  },
  {
   "cell_type": "markdown",
   "metadata": {},
   "source": [
    "## Adding weight regularization\n",
    "Given some training data and a network architecture, there are multiple sets of weights values (multiple models) that could explain the data, and simpler models are less likely to overfit than complex ones.\n",
    "\n",
    "A \"simple model\" in this context is a model where the distribution of parameter values has less entropy (or a model with fewer parameters altogether, as we saw in the section above). Thus a common way to mitigate overfitting is to put constraints on the complexity of a network by forcing its weights to only take small values, which makes the distribution of weight values more \"regular\". This is called \"weight regularization\", and it is done by adding to the loss function of the network a cost associated with having large weights. This cost comes in two ways:\n",
    "\n",
    "- L1 regularization, where the cost added is proportional to the absolute value of the weights coefficients (i.e. to what is called the \"L1 norm\" of the weights).\n",
    "- L2 regularization, where the cost added is proportional to the square of the value of the weights coefficients (i.e. to what is called the \"L2 norm\" of the weights). \n",
    "\n",
    "In Keras, weight regularization is added by passing weight regularizer instances to layers as keyword arguments. Let's add L2 weight regularization to our movie review classification network."
   ]
  },
  {
   "cell_type": "markdown",
   "metadata": {},
   "source": [
    "** Consider your original network and add L2 regularizer and try out some regularization coefficient. **\n",
    "\n",
    "Example: L2 with 0.001 means that every coefficient in the weight matrix of the layer will add 0.001 * weight_coefficient_value to the total loss of the network. Note that because this penalty is only added at training time, the loss for this network will be much higher at training than at test time."
   ]
  },
  {
   "cell_type": "code",
   "execution_count": 15,
   "metadata": {},
   "outputs": [],
   "source": [
    "from keras import regularizers\n",
    "\n",
    "l2_model = models.Sequential()\n",
    "l2_model.add(layers.Dense(16, kernel_regularizer=regularizers.l2(0.001),\n",
    "                          activation='relu', input_shape=(10000,)))\n",
    "l2_model.add(layers.Dense(16, kernel_regularizer=regularizers.l2(0.001),\n",
    "                          activation='relu'))\n",
    "l2_model.add(layers.Dense(1, activation='sigmoid'))"
   ]
  },
  {
   "cell_type": "markdown",
   "metadata": {},
   "source": [
    "** Compile the network. **"
   ]
  },
  {
   "cell_type": "code",
   "execution_count": 16,
   "metadata": {},
   "outputs": [],
   "source": [
    "l2_model.compile(optimizer='rmsprop',\n",
    "                 loss='binary_crossentropy',\n",
    "                 metrics=['acc'])"
   ]
  },
  {
   "cell_type": "markdown",
   "metadata": {},
   "source": [
    "** Fit the model and check which impact your L2 regularizer has.**"
   ]
  },
  {
   "cell_type": "code",
   "execution_count": 17,
   "metadata": {},
   "outputs": [
    {
     "name": "stdout",
     "output_type": "stream",
     "text": [
      "Train on 25000 samples, validate on 25000 samples\n",
      "Epoch 1/20\n",
      "25000/25000 [==============================] - 8s 321us/step - loss: 0.4886 - acc: 0.8146 - val_loss: 0.3899 - val_acc: 0.8654\n",
      "Epoch 2/20\n",
      "25000/25000 [==============================] - 6s 244us/step - loss: 0.3102 - acc: 0.9057 - val_loss: 0.3305 - val_acc: 0.8889\n",
      "Epoch 3/20\n",
      "25000/25000 [==============================] - 6s 254us/step - loss: 0.2658 - acc: 0.9203 - val_loss: 0.3298 - val_acc: 0.8872\n",
      "Epoch 4/20\n",
      "25000/25000 [==============================] - 6s 235us/step - loss: 0.2457 - acc: 0.9285 - val_loss: 0.3407 - val_acc: 0.8823\n",
      "Epoch 5/20\n",
      "25000/25000 [==============================] - 6s 256us/step - loss: 0.2323 - acc: 0.9348 - val_loss: 0.3816 - val_acc: 0.8682\n",
      "Epoch 6/20\n",
      "25000/25000 [==============================] - 6s 247us/step - loss: 0.2240 - acc: 0.9389 - val_loss: 0.3654 - val_acc: 0.8755\n",
      "Epoch 7/20\n",
      "25000/25000 [==============================] - 6s 260us/step - loss: 0.2173 - acc: 0.9408 - val_loss: 0.3739 - val_acc: 0.8734\n",
      "Epoch 8/20\n",
      "25000/25000 [==============================] - 8s 339us/step - loss: 0.2110 - acc: 0.9440 - val_loss: 0.3725 - val_acc: 0.8751\n",
      "Epoch 9/20\n",
      "25000/25000 [==============================] - 6s 260us/step - loss: 0.2051 - acc: 0.9458 - val_loss: 0.3754 - val_acc: 0.8755\n",
      "Epoch 10/20\n",
      "25000/25000 [==============================] - 7s 267us/step - loss: 0.2017 - acc: 0.9494 - val_loss: 0.3814 - val_acc: 0.8746\n",
      "Epoch 11/20\n",
      "25000/25000 [==============================] - 6s 247us/step - loss: 0.1963 - acc: 0.9481 - val_loss: 0.3829 - val_acc: 0.8754\n",
      "Epoch 12/20\n",
      "25000/25000 [==============================] - 6s 254us/step - loss: 0.1937 - acc: 0.9502 - val_loss: 0.3928 - val_acc: 0.8742\n",
      "Epoch 13/20\n",
      "25000/25000 [==============================] - 7s 296us/step - loss: 0.1897 - acc: 0.9524 - val_loss: 0.3962 - val_acc: 0.8730\n",
      "Epoch 14/20\n",
      "25000/25000 [==============================] - 10s 416us/step - loss: 0.1834 - acc: 0.9560 - val_loss: 0.4036 - val_acc: 0.8724\n",
      "Epoch 15/20\n",
      "25000/25000 [==============================] - 17s 672us/step - loss: 0.1827 - acc: 0.9553 - val_loss: 0.4530 - val_acc: 0.8576\n",
      "Epoch 16/20\n",
      "25000/25000 [==============================] - 9s 363us/step - loss: 0.1782 - acc: 0.9572 - val_loss: 0.4362 - val_acc: 0.8658\n",
      "Epoch 17/20\n",
      "25000/25000 [==============================] - 7s 274us/step - loss: 0.1727 - acc: 0.9597 - val_loss: 0.4187 - val_acc: 0.8704\n",
      "Epoch 18/20\n",
      "25000/25000 [==============================] - 7s 275us/step - loss: 0.1735 - acc: 0.9593 - val_loss: 0.4362 - val_acc: 0.8665\n",
      "Epoch 19/20\n",
      "25000/25000 [==============================] - 8s 305us/step - loss: 0.1652 - acc: 0.9641 - val_loss: 0.4414 - val_acc: 0.8650\n",
      "Epoch 20/20\n",
      "25000/25000 [==============================] - 7s 266us/step - loss: 0.1642 - acc: 0.9620 - val_loss: 0.4495 - val_acc: 0.8628\n"
     ]
    }
   ],
   "source": [
    "l2_model_hist = l2_model.fit(x_train, y_train,\n",
    "                             epochs=20,\n",
    "                             batch_size=512,\n",
    "                             validation_data=(x_test, y_test))"
   ]
  },
  {
   "cell_type": "markdown",
   "metadata": {},
   "source": [
    "** Fill in the #TO DOs to see your results in the plot. **"
   ]
  },
  {
   "cell_type": "code",
   "execution_count": 18,
   "metadata": {},
   "outputs": [
    {
     "data": {
      "image/png": "[encoded data removed]",
      "text/plain": [
       "<matplotlib.figure.Figure at 0x21f249f9940>"
      ]
     },
     "metadata": {},
     "output_type": "display_data"
    }
   ],
   "source": [
    "l2_model_val_loss = l2_model_hist.history['val_loss'] #TO DO: take from the take from the history dictionary of the regularized model the validation loss\n",
    "\n",
    "plt.plot(epochs, original_val_loss, 'b+', label='Original model') #TO DO: use the original model validation loss\n",
    "plt.plot(epochs, l2_model_val_loss, 'bo', label='L2-regularized model') #TO DO: use the regularized model validation loss\n",
    "plt.xlabel('Epochs')\n",
    "plt.ylabel('Validation loss')\n",
    "plt.legend()\n",
    "\n",
    "plt.show()"
   ]
  },
  {
   "cell_type": "markdown",
   "metadata": {},
   "source": [
    "**Considerations: what can you conclude from the plot? What about the overfitting? **"
   ]
  },
  {
   "cell_type": "markdown",
   "metadata": {},
   "source": [
    "As you can see, the model with L2 regularization (dots) has become much more resistant to overfitting than the reference model (crosses), even though both models have the same number of parameters."
   ]
  },
  {
   "cell_type": "markdown",
   "metadata": {},
   "source": [
    "As alternatives to L2 regularization, you could use one of the following Keras weight regularizers.\n",
    "\n",
    "(NOTE: do not run the above cell, it is just an example.)"
   ]
  },
  {
   "cell_type": "code",
   "execution_count": 19,
   "metadata": {},
   "outputs": [
    {
     "data": {
      "text/plain": [
       "<keras.regularizers.L1L2 at 0x21f240cec88>"
      ]
     },
     "execution_count": 19,
     "metadata": {},
     "output_type": "execute_result"
    }
   ],
   "source": [
    "from keras import regularizers\n",
    "\n",
    "# L1 regularization\n",
    "regularizers.l1(0.001)\n",
    "\n",
    "# L1 and L2 regularization at the same time\n",
    "regularizers.l1_l2(l1=0.001, l2=0.001)"
   ]
  },
  {
   "cell_type": "markdown",
   "metadata": {},
   "source": [
    "## Adding dropout\n",
    "Dropout is one of the most effective and most commonly used regularization techniques for neural networks. Dropout, applied to a layer, consists of randomly \"dropping out\" (i.e. setting to zero) a number of output features of the layer during training. Let's say a given layer would normally have returned a vector [0.2, 0.5, 1.3, 0.8, 1.1] for a given input sample during training; after applying dropout, this vector will have a few zero entries distributed at random, e.g. [0, 0.5, 1.3, 0, 1.1]. The \"dropout rate\" is the fraction of the features that are being zeroed-out; it is usually set between 0.2 and 0.5. At test time, no units are dropped out, and instead the layer's output values are scaled down by a factor equal to the dropout rate, so as to balance for the fact that more units are active than at training time.\n",
    "\n",
    "Consider a Numpy matrix containing the output of a layer, layer_output, of shape (batch_size, features). At training time, we would be zero-ing out at random a fraction of the values in the matrix.\n",
    "\n",
    "(NOTE: do not run the 3 above cells, it is just an example.)"
   ]
  },
  {
   "cell_type": "code",
   "execution_count": 20,
   "metadata": {},
   "outputs": [
    {
     "name": "stdout",
     "output_type": "stream",
     "text": [
      "[512  10]\n"
     ]
    }
   ],
   "source": [
    "# At training time: we drop out 50% of the units in the output\n",
    "#layer_output *= np.randint(0, high=2, size=layer_output.shape)\n",
    "batch_size = 512\n",
    "features = 10\n",
    "layer_output = np.array([batch_size, features])\n",
    "print(layer_output)\n",
    "layer_output = np.random.randint(0, high=2, size=layer_output.shape)"
   ]
  },
  {
   "cell_type": "markdown",
   "metadata": {},
   "source": [
    "At test time, we would be scaling the output down by the dropout rate. Here we scale by 0.5 (because we were previous dropping half the units):"
   ]
  },
  {
   "cell_type": "code",
   "execution_count": null,
   "metadata": {},
   "outputs": [],
   "source": [
    "# At test time:\n",
    "layer_output = layer_output*0.5"
   ]
  },
  {
   "cell_type": "markdown",
   "metadata": {},
   "source": [
    "Note that this process can be implemented by doing both operations at training time and leaving the output unchanged at test time, which is often the way it is implemented in practice:"
   ]
  },
  {
   "cell_type": "code",
   "execution_count": null,
   "metadata": {},
   "outputs": [],
   "source": [
    "# At training time:\n",
    "layer_output *= np.random.randint(0, high=2, size=layer_output.shape)\n",
    "# Note that we are scaling *up* rather scaling *down* in this case\n",
    "layer_output /= 0.5"
   ]
  },
  {
   "cell_type": "markdown",
   "metadata": {},
   "source": [
    "The core idea is that introducing noise in the output values of a layer can break up happenstance patterns that are not significant (what Hinton refers to as \"conspiracies\"), which the network would start memorizing if no noise was present."
   ]
  },
  {
   "cell_type": "markdown",
   "metadata": {},
   "source": [
    "Let's add two Dropout layers in our IMDB network to see how well they do at reducing overfitting:"
   ]
  },
  {
   "cell_type": "markdown",
   "metadata": {},
   "source": [
    "** Add Dropout to the original network. Where should you add the `Dropout` layers? Check Keras documentation and try to understand. Try out different value for the dropout rate.**"
   ]
  },
  {
   "cell_type": "code",
   "execution_count": 21,
   "metadata": {},
   "outputs": [],
   "source": [
    "dpt_model = models.Sequential()\n",
    "dpt_model.add(layers.Dense(16, activation='relu', input_shape=(10000,)))\n",
    "dpt_model.add(layers.Dropout(0.5))\n",
    "dpt_model.add(layers.Dense(16, activation='relu'))\n",
    "dpt_model.add(layers.Dropout(0.5))\n",
    "dpt_model.add(layers.Dense(1, activation='sigmoid'))"
   ]
  },
  {
   "cell_type": "markdown",
   "metadata": {},
   "source": [
    "** Compile the model.**"
   ]
  },
  {
   "cell_type": "code",
   "execution_count": 22,
   "metadata": {},
   "outputs": [],
   "source": [
    "dpt_model.compile(optimizer='rmsprop',\n",
    "                  loss='binary_crossentropy',\n",
    "                  metrics=['acc'])"
   ]
  },
  {
   "cell_type": "markdown",
   "metadata": {},
   "source": [
    "** Fit the model. **"
   ]
  },
  {
   "cell_type": "code",
   "execution_count": 23,
   "metadata": {},
   "outputs": [
    {
     "name": "stdout",
     "output_type": "stream",
     "text": [
      "Train on 25000 samples, validate on 25000 samples\n",
      "Epoch 1/20\n",
      "25000/25000 [==============================] - 12s 481us/step - loss: 0.5860 - acc: 0.6950 - val_loss: 0.4272 - val_acc: 0.8667\n",
      "Epoch 2/20\n",
      "25000/25000 [==============================] - 9s 364us/step - loss: 0.4270 - acc: 0.8294 - val_loss: 0.3307 - val_acc: 0.8843\n",
      "Epoch 3/20\n",
      "25000/25000 [==============================] - 9s 343us/step - loss: 0.3391 - acc: 0.8760 - val_loss: 0.2889 - val_acc: 0.8872\n",
      "Epoch 4/20\n",
      "25000/25000 [==============================] - 11s 456us/step - loss: 0.2803 - acc: 0.9023 - val_loss: 0.2762 - val_acc: 0.8908\n",
      "Epoch 5/20\n",
      "25000/25000 [==============================] - 15s 607us/step - loss: 0.2451 - acc: 0.9176 - val_loss: 0.2806 - val_acc: 0.8896\n",
      "Epoch 6/20\n",
      "25000/25000 [==============================] - 12s 463us/step - loss: 0.2152 - acc: 0.9282 - val_loss: 0.2965 - val_acc: 0.8862\n",
      "Epoch 7/20\n",
      "25000/25000 [==============================] - 14s 571us/step - loss: 0.1995 - acc: 0.9344 - val_loss: 0.3060 - val_acc: 0.8853\n",
      "Epoch 8/20\n",
      "25000/25000 [==============================] - 11s 436us/step - loss: 0.1762 - acc: 0.9437 - val_loss: 0.3327 - val_acc: 0.8842\n",
      "Epoch 9/20\n",
      "25000/25000 [==============================] - 8s 324us/step - loss: 0.1616 - acc: 0.9478 - val_loss: 0.3511 - val_acc: 0.8827\n",
      "Epoch 10/20\n",
      "25000/25000 [==============================] - 10s 397us/step - loss: 0.1529 - acc: 0.9500 - val_loss: 0.3884 - val_acc: 0.8810\n",
      "Epoch 11/20\n",
      "25000/25000 [==============================] - 10s 408us/step - loss: 0.1386 - acc: 0.9530 - val_loss: 0.4006 - val_acc: 0.8808\n",
      "Epoch 12/20\n",
      "25000/25000 [==============================] - 7s 293us/step - loss: 0.1337 - acc: 0.9559 - val_loss: 0.4396 - val_acc: 0.8778\n",
      "Epoch 13/20\n",
      "25000/25000 [==============================] - 8s 339us/step - loss: 0.1231 - acc: 0.9590 - val_loss: 0.4537 - val_acc: 0.8804\n",
      "Epoch 14/20\n",
      "25000/25000 [==============================] - 9s 366us/step - loss: 0.1188 - acc: 0.9612 - val_loss: 0.4648 - val_acc: 0.8792\n",
      "Epoch 15/20\n",
      "25000/25000 [==============================] - 9s 340us/step - loss: 0.1104 - acc: 0.9626 - val_loss: 0.4784 - val_acc: 0.8752\n",
      "Epoch 16/20\n",
      "25000/25000 [==============================] - 9s 340us/step - loss: 0.1076 - acc: 0.9641 - val_loss: 0.5042 - val_acc: 0.8762\n",
      "Epoch 17/20\n",
      "25000/25000 [==============================] - 9s 342us/step - loss: 0.1074 - acc: 0.9647 - val_loss: 0.5582 - val_acc: 0.8742\n",
      "Epoch 18/20\n",
      "25000/25000 [==============================] - 8s 313us/step - loss: 0.0991 - acc: 0.9669 - val_loss: 0.5594 - val_acc: 0.8751\n",
      "Epoch 19/20\n",
      "25000/25000 [==============================] - 10s 417us/step - loss: 0.0989 - acc: 0.9685 - val_loss: 0.5520 - val_acc: 0.8730\n",
      "Epoch 20/20\n",
      "25000/25000 [==============================] - 17s 672us/step - loss: 0.0988 - acc: 0.9673 - val_loss: 0.5775 - val_acc: 0.8734\n"
     ]
    }
   ],
   "source": [
    "dpt_model_hist = dpt_model.fit(x_train, y_train,\n",
    "                               epochs=20,\n",
    "                               batch_size=512,\n",
    "                               validation_data=(x_test, y_test))"
   ]
  },
  {
   "cell_type": "markdown",
   "metadata": {},
   "source": [
    "** Fill in the #TO DOs to plot the results.**"
   ]
  },
  {
   "cell_type": "code",
   "execution_count": 24,
   "metadata": {},
   "outputs": [
    {
     "data": {
      "image/png": "[encoded data removed]",
      "text/plain": [
       "<matplotlib.figure.Figure at 0x21f25f505c0>"
      ]
     },
     "metadata": {},
     "output_type": "display_data"
    }
   ],
   "source": [
    "dpt_model_val_loss = dpt_model_hist.history['val_loss'] #TO DO: take from the history dictionary of the model with dropout the validation loss\n",
    "\n",
    "plt.plot(epochs, original_val_loss, 'b+', label='Original model') #TO DO: use the validation loss of the original model\n",
    "plt.plot(epochs, dpt_model_val_loss, 'bo', label='Dropout-regularized model') #TO DO: use the validation loss of the model with dropout\n",
    "plt.xlabel('Epochs')\n",
    "plt.ylabel('Validation loss')\n",
    "plt.legend()\n",
    "\n",
    "plt.show()"
   ]
  },
  {
   "cell_type": "markdown",
   "metadata": {},
   "source": [
    "** Considerations: were you able to improve? **"
   ]
  },
  {
   "cell_type": "markdown",
   "metadata": {},
   "source": [
    "Again, a clear improvement over the reference network.\n",
    "\n",
    "To recap: here the most common ways to prevent overfitting in neural networks:\n",
    "\n",
    "Getting more training data.\n",
    "Reducing the capacity of the network.\n",
    "Adding weight regularization.\n",
    "Adding dropout."
   ]
  },
  {
   "cell_type": "code",
   "execution_count": null,
   "metadata": {},
   "outputs": [],
   "source": []
  }
 ],
 "metadata": {
  "kernelspec": {
   "display_name": "Python 3",
   "language": "python",
   "name": "python3"
  },
  "language_info": {
   "codemirror_mode": {
    "name": "ipython",
    "version": 3
   },
   "file_extension": ".py",
   "mimetype": "text/x-python",
   "name": "python",
   "nbconvert_exporter": "python",
   "pygments_lexer": "ipython3",
   "version": "3.6.4"
  }
 },
 "nbformat": 4,
 "nbformat_minor": 2
}
