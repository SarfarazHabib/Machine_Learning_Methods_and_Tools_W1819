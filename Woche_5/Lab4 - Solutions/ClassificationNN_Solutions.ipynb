{
 "cells": [
  {
   "cell_type": "markdown",
   "metadata": {},
   "source": [
    "# Classifying movie reviews\n",
    "\n",
    "In this example, we will learn to classify movie reviews into \"positive\" reviews and \"negative\" reviews, just based on the text content of the reviews. This is a \"binary classification example\".\n",
    "\n",
    "## The Dataset\n",
    "\n",
    "The IMDB dataset: a set of 50,000 reviews from the Internet Movie Database. They are split into 25,000 reviews for training and 25,000 reviews for testing, each set consisting in 50% negative and 50% positive reviews.\n",
    "\n",
    "The IMDB dataset comes pre-built in Keras. It has already been preprocessed: the reviews (sequences of words) have been turned into sequences of integers, where each integer stands for a specific word in a dictionary.\n",
    "\n",
    "The following code will load the dataset (when you run it for the first time, about 80MB of data will be downloaded to your machine):"
   ]
  },
  {
   "cell_type": "markdown",
   "metadata": {},
   "source": [
    "We load the dataset:"
   ]
  },
  {
   "cell_type": "code",
   "execution_count": 1,
   "metadata": {},
   "outputs": [
    {
     "name": "stderr",
     "output_type": "stream",
     "text": [
      "C:\\Users\\Zennaro\\AppData\\Local\\Continuum\\anaconda3\\lib\\site-packages\\h5py\\__init__.py:36: FutureWarning: Conversion of the second argument of issubdtype from `float` to `np.floating` is deprecated. In future, it will be treated as `np.float64 == np.dtype(float).type`.\n",
      "  from ._conv import register_converters as _register_converters\n",
      "Using TensorFlow backend.\n"
     ]
    }
   ],
   "source": [
    "from keras.datasets import imdb\n",
    "\n",
    "(train_data, train_labels), (test_data, test_labels) = imdb.load_data(num_words=10000)"
   ]
  },
  {
   "cell_type": "markdown",
   "metadata": {},
   "source": [
    "** Check training and test data dimension. **"
   ]
  },
  {
   "cell_type": "code",
   "execution_count": 2,
   "metadata": {},
   "outputs": [
    {
     "name": "stdout",
     "output_type": "stream",
     "text": [
      "(25000,)\n",
      "(25000,)\n",
      "(25000,)\n",
      "(25000,)\n"
     ]
    }
   ],
   "source": [
    "print(train_data.shape)\n",
    "print(train_labels.shape)\n",
    "print(test_data.shape)\n",
    "print(test_labels.shape)"
   ]
  },
  {
   "cell_type": "markdown",
   "metadata": {},
   "source": [
    "## Prepare the Data\n",
    "\n",
    "We cannot feed lists of integers into a neural network. We have to turn lists into tensors.\n",
    "\n",
    "We could pad our lists so that they all have the same length, and turn them into an integer tensor of shape (samples, word_indices), then use as first layer in our network a layer capable of handling such integer tensors (the Embedding layer, which we will cover in detail later).\n",
    "We could one-hot-encode our lists to turn them into vectors of 0s and 1s. Concretely, this would mean for instance turning the sequence [3, 5] into a 10,000-dimensional vector that would be all-zeros except for indices 3 and 5, which would be ones. Then we could use as first layer in our network a Dense layer, capable of handling floating point vector data.\n",
    "We will go with the latter solution. Let's vectorize our data, which we will do manually for maximum clarity:"
   ]
  },
  {
   "cell_type": "code",
   "execution_count": 3,
   "metadata": {},
   "outputs": [],
   "source": [
    "import numpy as np\n",
    "\n",
    "def vectorize_sequences(sequences, dimension=10000):\n",
    "    # Create an all-zero matrix of shape (len(sequences), dimension)\n",
    "    results = np.zeros((len(sequences), dimension))\n",
    "    for i, sequence in enumerate(sequences):\n",
    "        results[i, sequence] = 1.  # set specific indices of results[i] to 1s\n",
    "    return results\n",
    "\n",
    "# Our vectorized training data\n",
    "x_train = vectorize_sequences(train_data)\n",
    "# Our vectorized test data\n",
    "x_test = vectorize_sequences(test_data)"
   ]
  },
  {
   "cell_type": "markdown",
   "metadata": {},
   "source": [
    "** Check one sample. **"
   ]
  },
  {
   "cell_type": "code",
   "execution_count": 4,
   "metadata": {},
   "outputs": [
    {
     "data": {
      "text/plain": [
       "array([0., 1., 1., ..., 0., 0., 0.])"
      ]
     },
     "execution_count": 4,
     "metadata": {},
     "output_type": "execute_result"
    }
   ],
   "source": [
    "# One sample\n",
    "x_train[0]"
   ]
  },
  {
   "cell_type": "code",
   "execution_count": 5,
   "metadata": {},
   "outputs": [],
   "source": [
    "# Our vectorized labels\n",
    "y_train = np.asarray(train_labels).astype('float32')\n",
    "y_test = np.asarray(test_labels).astype('float32')"
   ]
  },
  {
   "cell_type": "markdown",
   "metadata": {},
   "source": [
    "## Building the Network"
   ]
  },
  {
   "cell_type": "markdown",
   "metadata": {},
   "source": [
    "The input data is simply vectors, and the labels are scalars (1 and 0): this is the easiest setup you will ever encounter. \n",
    "Key questions: how many layers do we need? How many hidden units for each layer? \n",
    "We will build a simple stack of fully-connected (Dense) layers. The network should have the following structure:\n",
    "- Dense layer with 16 hidden units and ReLU activation function;\n",
    "- Dense layer with 16 hidden units and ReLU activation function;\n",
    "- Dense layer output with sigmoid activation function;\n",
    "\n",
    "Remember: for the fully connected layer, it holds: output = relu(dot(W, input) + b), with W weight matrix and b bias.\n",
    "Remember: the sigmoid function will give you a score between 0 and 1, which tells you \"how likely the sample is to have \"1\", that means the review to be \"positive\"."
   ]
  },
  {
   "cell_type": "markdown",
   "metadata": {},
   "source": [
    "**Import models and layers from Keras. **"
   ]
  },
  {
   "cell_type": "code",
   "execution_count": 6,
   "metadata": {},
   "outputs": [],
   "source": [
    "from keras import models\n",
    "from keras import layers"
   ]
  },
  {
   "cell_type": "markdown",
   "metadata": {},
   "source": [
    "**Create the network model as described above. **"
   ]
  },
  {
   "cell_type": "code",
   "execution_count": 7,
   "metadata": {},
   "outputs": [],
   "source": [
    "model = models.Sequential()\n",
    "model.add(layers.Dense(16, activation='relu', input_shape=(10000,)))\n",
    "model.add(layers.Dense(16, activation='relu'))\n",
    "model.add(layers.Dense(1, activation='sigmoid'))"
   ]
  },
  {
   "cell_type": "markdown",
   "metadata": {},
   "source": [
    "** Configure the model with an  optimizer and  a loss function. Check Keras documentation and try to understand which one suits better for your problem.** (`rmsprop`,`binary_crossentropy`)"
   ]
  },
  {
   "cell_type": "code",
   "execution_count": 8,
   "metadata": {},
   "outputs": [],
   "source": [
    "model.compile(optimizer='rmsprop',\n",
    "              loss='binary_crossentropy',\n",
    "              metrics=['accuracy'])"
   ]
  },
  {
   "cell_type": "markdown",
   "metadata": {},
   "source": [
    "** Do the same as in the previous cell but pass an optimizer class instance as the optimizer argument. Check Keras documentation for more insights. **"
   ]
  },
  {
   "cell_type": "code",
   "execution_count": 9,
   "metadata": {},
   "outputs": [],
   "source": [
    "from keras import optimizers\n",
    "\n",
    "model.compile(optimizer=optimizers.RMSprop(lr=0.001),\n",
    "              loss='binary_crossentropy',\n",
    "              metrics=['accuracy'])"
   ]
  },
  {
   "cell_type": "markdown",
   "metadata": {},
   "source": [
    "** Do the same as in the previous cell, but pass function objects as the loss or metrics arguments. **"
   ]
  },
  {
   "cell_type": "code",
   "execution_count": 10,
   "metadata": {},
   "outputs": [],
   "source": [
    "from keras import losses\n",
    "from keras import metrics\n",
    "\n",
    "model.compile(optimizer=optimizers.RMSprop(lr=0.001),\n",
    "              loss=losses.binary_crossentropy,\n",
    "              metrics=[metrics.binary_accuracy])"
   ]
  },
  {
   "cell_type": "markdown",
   "metadata": {},
   "source": [
    "## Validating the approach"
   ]
  },
  {
   "cell_type": "markdown",
   "metadata": {},
   "source": [
    "**Create the Validation set of 10,000 samples. **"
   ]
  },
  {
   "cell_type": "code",
   "execution_count": 11,
   "metadata": {},
   "outputs": [],
   "source": [
    "x_val = x_train[:10000]\n",
    "partial_x_train = x_train[10000:]\n",
    "\n",
    "y_val = y_train[:10000]\n",
    "partial_y_train = y_train[10000:]"
   ]
  },
  {
   "cell_type": "markdown",
   "metadata": {},
   "source": [
    "** Train the model for 20 epochs in mini-batches of 512 samples. Use the Validation set you have just created. Check Keras documentation for more info. **"
   ]
  },
  {
   "cell_type": "code",
   "execution_count": 12,
   "metadata": {},
   "outputs": [
    {
     "name": "stdout",
     "output_type": "stream",
     "text": [
      "Train on 15000 samples, validate on 10000 samples\n",
      "Epoch 1/20\n",
      "15000/15000 [==============================] - 4s 261us/step - loss: 0.5083 - binary_accuracy: 0.7819 - val_loss: 0.3789 - val_binary_accuracy: 0.8697\n",
      "Epoch 2/20\n",
      "15000/15000 [==============================] - 4s 272us/step - loss: 0.3002 - binary_accuracy: 0.9045 - val_loss: 0.3001 - val_binary_accuracy: 0.8896\n",
      "Epoch 3/20\n",
      "15000/15000 [==============================] - 4s 235us/step - loss: 0.2178 - binary_accuracy: 0.9280 - val_loss: 0.3086 - val_binary_accuracy: 0.8712\n",
      "Epoch 4/20\n",
      "15000/15000 [==============================] - 3s 192us/step - loss: 0.1750 - binary_accuracy: 0.9437 - val_loss: 0.2839 - val_binary_accuracy: 0.8839\n",
      "Epoch 5/20\n",
      "15000/15000 [==============================] - 3s 194us/step - loss: 0.1426 - binary_accuracy: 0.9544 - val_loss: 0.2848 - val_binary_accuracy: 0.8865\n",
      "Epoch 6/20\n",
      "15000/15000 [==============================] - 3s 195us/step - loss: 0.1150 - binary_accuracy: 0.9652 - val_loss: 0.3142 - val_binary_accuracy: 0.8777\n",
      "Epoch 7/20\n",
      "15000/15000 [==============================] - 3s 206us/step - loss: 0.0980 - binary_accuracy: 0.9708 - val_loss: 0.3128 - val_binary_accuracy: 0.8847\n",
      "Epoch 8/20\n",
      "15000/15000 [==============================] - 3s 192us/step - loss: 0.0807 - binary_accuracy: 0.9765 - val_loss: 0.3859 - val_binary_accuracy: 0.8655\n",
      "Epoch 9/20\n",
      "15000/15000 [==============================] - 3s 191us/step - loss: 0.0661 - binary_accuracy: 0.9823 - val_loss: 0.3632 - val_binary_accuracy: 0.8783\n",
      "Epoch 10/20\n",
      "15000/15000 [==============================] - 3s 191us/step - loss: 0.0554 - binary_accuracy: 0.9855 - val_loss: 0.3842 - val_binary_accuracy: 0.8791\n",
      "Epoch 11/20\n",
      "15000/15000 [==============================] - 3s 191us/step - loss: 0.0457 - binary_accuracy: 0.9885 - val_loss: 0.4169 - val_binary_accuracy: 0.8765\n",
      "Epoch 12/20\n",
      "15000/15000 [==============================] - 3s 215us/step - loss: 0.0386 - binary_accuracy: 0.9914 - val_loss: 0.4507 - val_binary_accuracy: 0.8700\n",
      "Epoch 13/20\n",
      "15000/15000 [==============================] - 3s 191us/step - loss: 0.0297 - binary_accuracy: 0.9933 - val_loss: 0.4695 - val_binary_accuracy: 0.8729\n",
      "Epoch 14/20\n",
      "15000/15000 [==============================] - 3s 190us/step - loss: 0.0245 - binary_accuracy: 0.9949 - val_loss: 0.5023 - val_binary_accuracy: 0.8720\n",
      "Epoch 15/20\n",
      "15000/15000 [==============================] - 3s 194us/step - loss: 0.0178 - binary_accuracy: 0.9977 - val_loss: 0.5355 - val_binary_accuracy: 0.8691\n",
      "Epoch 16/20\n",
      "15000/15000 [==============================] - 3s 198us/step - loss: 0.0172 - binary_accuracy: 0.9967 - val_loss: 0.5716 - val_binary_accuracy: 0.8687\n",
      "Epoch 17/20\n",
      "15000/15000 [==============================] - 3s 194us/step - loss: 0.0094 - binary_accuracy: 0.9995 - val_loss: 0.6184 - val_binary_accuracy: 0.8640\n",
      "Epoch 18/20\n",
      "15000/15000 [==============================] - 3s 203us/step - loss: 0.0115 - binary_accuracy: 0.9975 - val_loss: 0.6377 - val_binary_accuracy: 0.8668\n",
      "Epoch 19/20\n",
      "15000/15000 [==============================] - 3s 194us/step - loss: 0.0109 - binary_accuracy: 0.9975 - val_loss: 0.6761 - val_binary_accuracy: 0.8658\n",
      "Epoch 20/20\n",
      "15000/15000 [==============================] - 3s 193us/step - loss: 0.0040 - binary_accuracy: 0.9999 - val_loss: 0.6898 - val_binary_accuracy: 0.8651\n"
     ]
    }
   ],
   "source": [
    "history = model.fit(partial_x_train,\n",
    "                    partial_y_train,\n",
    "                    epochs=20,\n",
    "                    batch_size=512,\n",
    "                    validation_data=(x_val, y_val))"
   ]
  },
  {
   "cell_type": "markdown",
   "metadata": {},
   "source": [
    "** Check the `.history` of the result of your fit and print it to see in which format it is and how it is possible to access to the values. **"
   ]
  },
  {
   "cell_type": "code",
   "execution_count": 13,
   "metadata": {},
   "outputs": [
    {
     "data": {
      "text/plain": [
       "dict_keys(['val_loss', 'val_binary_accuracy', 'loss', 'binary_accuracy'])"
      ]
     },
     "execution_count": 13,
     "metadata": {},
     "output_type": "execute_result"
    }
   ],
   "source": [
    "history_dict = history.history\n",
    "history_dict.keys()"
   ]
  },
  {
   "cell_type": "markdown",
   "metadata": {},
   "source": [
    "** Complete the #TO DO to obtain the plot of the training and validation accuracy. **"
   ]
  },
  {
   "cell_type": "code",
   "execution_count": 15,
   "metadata": {},
   "outputs": [
    {
     "data": {
      "image/png": "[encoded data removed]",
      "text/plain": [
       "<matplotlib.figure.Figure at 0x2ea21596860>"
      ]
     },
     "metadata": {},
     "output_type": "display_data"
    }
   ],
   "source": [
    "import matplotlib.pyplot as plt\n",
    "\n",
    "acc = history.history['binary_accuracy'] #TO DO: take from the history dictionary of the model the training accuracy\n",
    "val_acc = history.history['val_binary_accuracy'] #TO DO: take from the history dictionary of the model the validation accuracy\n",
    "loss = history.history['loss'] #TO DO: take from the history dictionary of the model the training loss\n",
    "val_loss = history.history['val_loss'] #TO DO: take from the history dictionary of the model the validation loss \n",
    "\n",
    "epochs = range(1, len(acc) + 1)\n",
    "\n",
    "# Plot the Loss\n",
    "\n",
    "# \"bo\" is for \"blue dot\"\n",
    "plt.plot(epochs, loss, 'bo', label='Training loss') #TO DO: use the training loss\n",
    "# b is for \"solid blue line\"\n",
    "plt.plot(epochs, val_loss, 'b', label='Validation loss') #TO DO: use validation loss\n",
    "plt.title('Training and validation loss')\n",
    "plt.xlabel('Epochs')\n",
    "plt.ylabel('Loss')\n",
    "plt.legend()\n",
    "\n",
    "plt.show()"
   ]
  },
  {
   "cell_type": "code",
   "execution_count": 16,
   "metadata": {},
   "outputs": [
    {
     "data": {
      "image/png": "[encoded data removed]",
      "text/plain": [
       "<matplotlib.figure.Figure at 0x2ea20d62438>"
      ]
     },
     "metadata": {},
     "output_type": "display_data"
    }
   ],
   "source": [
    "# Plot the Accuracy\n",
    "\n",
    "plt.clf()   # clear figure\n",
    "acc_values = history_dict['binary_accuracy'] #TO DO: take from the history dictionary of the model the training accuracy\n",
    "val_acc_values = history_dict['val_binary_accuracy'] # TO DO: take from the history dictionary of the model the validation accuracy\n",
    "\n",
    "# Plot Epochs vs Training accuracy and Epochs vs Validation accuracy\n",
    "plt.plot(epochs, acc, 'bo', label='Training acc') #TO DO: use training accuracy\n",
    "plt.plot(epochs, val_acc, 'b', label='Validation acc')#TO DO: use validation accuracy\n",
    "plt.title('Training and validation accuracy')\n",
    "plt.xlabel('Epochs')\n",
    "plt.ylabel('Loss')\n",
    "plt.legend()\n",
    "\n",
    "plt.show()"
   ]
  },
  {
   "cell_type": "markdown",
   "metadata": {},
   "source": [
    "** What can you conclude from these results? Try to analyse and understand them. **"
   ]
  },
  {
   "cell_type": "markdown",
   "metadata": {},
   "source": [
    "As you can see, the training loss decreases with every epoch and the training accuracy increases with every epoch. That's what you would expect when running gradient descent optimization -- the quantity you are trying to minimize should get lower with every iteration. But that isn't the case for the validation loss and accuracy: they seem to peak at the fourth epoch. This is an example of what we were warning against earlier: a model that performs better on the training data isn't necessarily a model that will do better on data it has never seen before. In precise terms, what you are seeing is \"overfitting\": after the second epoch, we are over-optimizing on the training data, and we ended up learning representations that are specific to the training data and do not generalize to data outside of the training set.\n",
    "In this case, to prevent overfitting, we could simply stop training after three epochs.\n",
    "\n",
    "Let's train a new network from scratch for four epochs, then evaluate it on our test data:"
   ]
  },
  {
   "cell_type": "markdown",
   "metadata": {},
   "source": [
    "** Train a new network from scratch for 4 epochs and evaluate it on the test data. **"
   ]
  },
  {
   "cell_type": "code",
   "execution_count": 17,
   "metadata": {},
   "outputs": [
    {
     "name": "stdout",
     "output_type": "stream",
     "text": [
      "Epoch 1/4\n",
      "25000/25000 [==============================] - 4s 153us/step - loss: 0.4749 - acc: 0.8217\n",
      "Epoch 2/4\n",
      "25000/25000 [==============================] - 3s 131us/step - loss: 0.2658 - acc: 0.9097\n",
      "Epoch 3/4\n",
      "25000/25000 [==============================] - 4s 143us/step - loss: 0.1982 - acc: 0.9299\n",
      "Epoch 4/4\n",
      "25000/25000 [==============================] - 4s 143us/step - loss: 0.1679 - acc: 0.9402\n",
      "25000/25000 [==============================] - 4s 170us/step\n"
     ]
    }
   ],
   "source": [
    "model = models.Sequential()\n",
    "model.add(layers.Dense(16, activation='relu', input_shape=(10000,)))\n",
    "model.add(layers.Dense(16, activation='relu'))\n",
    "model.add(layers.Dense(1, activation='sigmoid'))\n",
    "\n",
    "model.compile(optimizer='rmsprop',\n",
    "              loss='binary_crossentropy',\n",
    "              metrics=['accuracy'])\n",
    "\n",
    "model.fit(x_train, y_train, epochs=4, batch_size=512)\n",
    "results = model.evaluate(x_test, y_test)"
   ]
  },
  {
   "cell_type": "code",
   "execution_count": 18,
   "metadata": {},
   "outputs": [
    {
     "data": {
      "text/plain": [
       "[0.32372354475975035, 0.87324]"
      ]
     },
     "execution_count": 18,
     "metadata": {},
     "output_type": "execute_result"
    }
   ],
   "source": [
    "results"
   ]
  },
  {
   "cell_type": "markdown",
   "metadata": {},
   "source": [
    "## Test the Network"
   ]
  },
  {
   "cell_type": "markdown",
   "metadata": {},
   "source": [
    "** Make predictions with your model. **"
   ]
  },
  {
   "cell_type": "code",
   "execution_count": 19,
   "metadata": {},
   "outputs": [
    {
     "data": {
      "text/plain": [
       "array([[0.14016883],\n",
       "       [0.9997023 ],\n",
       "       [0.29127252],\n",
       "       ...,\n",
       "       [0.07250732],\n",
       "       [0.04311436],\n",
       "       [0.47990188]], dtype=float32)"
      ]
     },
     "execution_count": 19,
     "metadata": {},
     "output_type": "execute_result"
    }
   ],
   "source": [
    "model.predict(x_test)"
   ]
  },
  {
   "cell_type": "markdown",
   "metadata": {},
   "source": [
    "## Further experiments\n",
    "\n",
    "**NOTE: In the next Lab, we will focus more in optimizing the hyperparameters and understanding how they may influence the outcomes. However here are some simple experiments you can also try now.**\n",
    "\n",
    "** Try out these experiments and every time re-compute the accuracy to check how it changes. **\n",
    "#### Experiment 1\n",
    "We were using 2 hidden layers, try to use 1 or 3 hidden layers and see how it affects validation and test accuracy.\n",
    "#### Experiment 2\n",
    "Try to use layers with more hidden units or less hidden units: 32 units, 64 units...\n",
    "#### Experiment 3\n",
    "Try to use the another loss function.\n",
    "#### Experiment 4\n",
    "Try to use the tanh activation instead of ReLU.\n",
    "\n",
    "\n",
    "\n",
    "\n",
    "## Conclusions\n",
    "Here's what you should take away from this example:\n",
    "\n",
    "- There's usually quite a bit of preprocessing you need to do on your raw data in order to be able to feed it -- as tensors -- into a neural network. In the case of sequences of words, they can be encoded as binary vectors -- but there are other encoding options too.\n",
    "- Stacks of Dense layers with relu activations can solve a wide range of problems (including sentiment classification), and you will likely use them frequently.\n",
    "- In a binary classification problem (two output classes), your network should end with a Dense layer with 1 unit and a sigmoid activation, i.e. the output of your network should be a scalar between 0 and 1, encoding a probability.\n",
    "- With such a scalar sigmoid output, on a binary classification problem, the loss function you should use is binary_crossentropy.\n",
    "- The RMSprop optimizer is generally a good enough choice of optimizer, whatever your problem.\n",
    "- As they get better on their training data, neural networks eventually start overfitting and end up obtaining increasingly worse results on data never-seen-before. Make sure to always monitor performance on data that is outside of the training set."
   ]
  },
  {
   "cell_type": "code",
   "execution_count": null,
   "metadata": {},
   "outputs": [],
   "source": []
  }
 ],
 "metadata": {
  "kernelspec": {
   "display_name": "Python 3",
   "language": "python",
   "name": "python3"
  },
  "language_info": {
   "codemirror_mode": {
    "name": "ipython",
    "version": 3
   },
   "file_extension": ".py",
   "mimetype": "text/x-python",
   "name": "python",
   "nbconvert_exporter": "python",
   "pygments_lexer": "ipython3",
   "version": "3.6.4"
  }
 },
 "nbformat": 4,
 "nbformat_minor": 2
}
