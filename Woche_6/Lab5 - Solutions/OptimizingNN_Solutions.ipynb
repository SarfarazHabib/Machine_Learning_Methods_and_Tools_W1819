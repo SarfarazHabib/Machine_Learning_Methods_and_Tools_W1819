{
 "cells": [
  {
   "cell_type": "markdown",
   "metadata": {},
   "source": [
    "# Optimizing Neural Network Hyperparameters\n",
    "\n",
    "We will consider an Image Recognition problem with MNIST dataset (28 x 28 images). The MNIST dataset has a training set of 60,000 images and a test set of 10,000 images. The digits have been sized-normalized and centered in a fixed-size image.\n",
    "It is a good database for people who want to try learning techniques and pattern recognition methods on real-world data while spending minimal efforts on preprocessing and formatting.\n",
    "\n",
    "In this Notebook you will follow two different approaches to tune the hyperparameters:\n",
    "- \"Trial and Error\" approach;\n",
    "- \"Grid Search\" Hyperparameter optimization with Scikit-Learn wrapper;"
   ]
  },
  {
   "cell_type": "markdown",
   "metadata": {},
   "source": [
    "### Data Preparation"
   ]
  },
  {
   "cell_type": "code",
   "execution_count": 1,
   "metadata": {},
   "outputs": [
    {
     "name": "stderr",
     "output_type": "stream",
     "text": [
      "C:\\Users\\Zennaro\\AppData\\Local\\Continuum\\anaconda3\\lib\\site-packages\\h5py\\__init__.py:36: FutureWarning: Conversion of the second argument of issubdtype from `float` to `np.floating` is deprecated. In future, it will be treated as `np.float64 == np.dtype(float).type`.\n",
      "  from ._conv import register_converters as _register_converters\n",
      "Using TensorFlow backend.\n"
     ]
    }
   ],
   "source": [
    "from keras.datasets import mnist\n",
    "\n",
    "(train_images, train_labels), (test_images, test_labels) = mnist.load_data() # train_x, train_y, test_x, test_y"
   ]
  },
  {
   "cell_type": "code",
   "execution_count": 2,
   "metadata": {},
   "outputs": [],
   "source": [
    "train_images = train_images.reshape((60000, 28 * 28))\n",
    "train_images = train_images.astype('float32') / 255\n",
    "\n",
    "test_images = test_images.reshape((10000, 28 * 28))\n",
    "test_images = test_images.astype('float32') / 255"
   ]
  },
  {
   "cell_type": "code",
   "execution_count": 3,
   "metadata": {},
   "outputs": [],
   "source": [
    "from keras.utils import to_categorical\n",
    "\n",
    "train_labels = to_categorical(train_labels)\n",
    "test_labels = to_categorical(test_labels)"
   ]
  },
  {
   "cell_type": "code",
   "execution_count": 4,
   "metadata": {},
   "outputs": [],
   "source": [
    "split_size = int(train_images.shape[0]*0.7)\n",
    "\n",
    "train_images, val_images = train_images[:split_size], train_images[split_size:]\n",
    "train_labels, val_labels = train_labels[:split_size], train_labels[split_size:]"
   ]
  },
  {
   "cell_type": "markdown",
   "metadata": {},
   "source": [
    "### Building the Model\n",
    "\n",
    "Build a neural network with 3 layers, input, hidden and output:\n",
    "- Dense layer with 50 hidden units and an appropriate activation function;\n",
    "- Dense layer with 10 output units and appropriate activation function;\n",
    "\n",
    "First we define some useful parameters:"
   ]
  },
  {
   "cell_type": "code",
   "execution_count": 5,
   "metadata": {},
   "outputs": [],
   "source": [
    "# define vars\n",
    "input_num_units = 784\n",
    "hidden_num_units = 50\n",
    "output_num_units = 10\n",
    "\n",
    "epochs = 5\n",
    "batch_size = 128"
   ]
  },
  {
   "cell_type": "markdown",
   "metadata": {},
   "source": [
    "** Import Keras packages that you think may need.**"
   ]
  },
  {
   "cell_type": "code",
   "execution_count": 6,
   "metadata": {},
   "outputs": [],
   "source": [
    "# Import Keras modules\n",
    "from keras.models import Sequential\n",
    "from keras.layers import Dense"
   ]
  },
  {
   "cell_type": "markdown",
   "metadata": {},
   "source": [
    "** Create the model as described above. **"
   ]
  },
  {
   "cell_type": "code",
   "execution_count": 7,
   "metadata": {},
   "outputs": [
    {
     "name": "stderr",
     "output_type": "stream",
     "text": [
      "C:\\Users\\Zennaro\\AppData\\Local\\Continuum\\anaconda3\\lib\\site-packages\\ipykernel_launcher.py:3: UserWarning: Update your `Dense` call to the Keras 2 API: `Dense(input_dim=784, activation=\"relu\", units=50)`\n",
      "  This is separate from the ipykernel package so we can avoid doing imports until\n",
      "C:\\Users\\Zennaro\\AppData\\Local\\Continuum\\anaconda3\\lib\\site-packages\\ipykernel_launcher.py:4: UserWarning: Update your `Dense` call to the Keras 2 API: `Dense(input_dim=50, activation=\"softmax\", units=10)`\n",
      "  after removing the cwd from sys.path.\n"
     ]
    }
   ],
   "source": [
    "# create model\n",
    "model = Sequential([\n",
    "  Dense(output_dim=hidden_num_units, input_dim=input_num_units, activation='relu'),\n",
    "  Dense(output_dim=output_num_units, input_dim=hidden_num_units, activation='softmax'),\n",
    "])"
   ]
  },
  {
   "cell_type": "markdown",
   "metadata": {},
   "source": [
    "** Configure the model with an optimizer and an appropriate loss function. **"
   ]
  },
  {
   "cell_type": "code",
   "execution_count": 8,
   "metadata": {},
   "outputs": [],
   "source": [
    "# Compile the model with necessary attributes\n",
    "model.compile(loss='categorical_crossentropy', optimizer='adam', metrics=['accuracy'])"
   ]
  },
  {
   "cell_type": "markdown",
   "metadata": {},
   "source": [
    "** Train the model (also with the validation set). **"
   ]
  },
  {
   "cell_type": "code",
   "execution_count": 9,
   "metadata": {},
   "outputs": [
    {
     "name": "stderr",
     "output_type": "stream",
     "text": [
      "C:\\Users\\Zennaro\\AppData\\Local\\Continuum\\anaconda3\\lib\\site-packages\\keras\\models.py:942: UserWarning: The `nb_epoch` argument in `fit` has been renamed `epochs`.\n",
      "  warnings.warn('The `nb_epoch` argument in `fit` '\n"
     ]
    },
    {
     "name": "stdout",
     "output_type": "stream",
     "text": [
      "Train on 42000 samples, validate on 18000 samples\n",
      "Epoch 1/5\n",
      "42000/42000 [==============================] - 2s 55us/step - loss: 0.5209 - acc: 0.8543 - val_loss: 0.2890 - val_acc: 0.9173\n",
      "Epoch 2/5\n",
      "42000/42000 [==============================] - 2s 42us/step - loss: 0.2498 - acc: 0.9291 - val_loss: 0.2288 - val_acc: 0.9359\n",
      "Epoch 3/5\n",
      "42000/42000 [==============================] - 2s 47us/step - loss: 0.1976 - acc: 0.9441 - val_loss: 0.1953 - val_acc: 0.9443\n",
      "Epoch 4/5\n",
      "42000/42000 [==============================] - 2s 51us/step - loss: 0.1639 - acc: 0.9534 - val_loss: 0.1796 - val_acc: 0.9478\n",
      "Epoch 5/5\n",
      "42000/42000 [==============================] - 2s 48us/step - loss: 0.1404 - acc: 0.9600 - val_loss: 0.1655 - val_acc: 0.9533\n"
     ]
    }
   ],
   "source": [
    "# Train the model\n",
    "trained_model = model.fit(train_images, train_labels, nb_epoch=epochs, batch_size=batch_size, validation_data=(val_images, val_labels))"
   ]
  },
  {
   "cell_type": "markdown",
   "metadata": {},
   "source": [
    "### Model Evaluation"
   ]
  },
  {
   "cell_type": "markdown",
   "metadata": {},
   "source": [
    "** Test the model: get some prediction and evaluate the model. **"
   ]
  },
  {
   "cell_type": "code",
   "execution_count": 10,
   "metadata": {},
   "outputs": [],
   "source": [
    "pred = model.predict_classes(test_images)"
   ]
  },
  {
   "cell_type": "code",
   "execution_count": 11,
   "metadata": {},
   "outputs": [
    {
     "name": "stdout",
     "output_type": "stream",
     "text": [
      "10000/10000 [==============================] - 0s 45us/step\n"
     ]
    }
   ],
   "source": [
    "test_loss, test_acc = model.evaluate(test_images, test_labels) "
   ]
  },
  {
   "cell_type": "code",
   "execution_count": 12,
   "metadata": {},
   "outputs": [
    {
     "name": "stdout",
     "output_type": "stream",
     "text": [
      "test_acc: 0.9572\n"
     ]
    }
   ],
   "source": [
    "print('test_acc:', test_acc)"
   ]
  },
  {
   "cell_type": "markdown",
   "metadata": {},
   "source": [
    "Let's try to improve it by tuning some Hyperparameters.\n",
    "\n",
    "### Hyperparameters Optimization - Trial and Error\n",
    "\n",
    "Some important parameters to look out while optimizing neural networks are:\n",
    "- Type of architecture;\n",
    "- Number of layers;\n",
    "- Number of neurons per layer;\n",
    "- Regularization parameters;\n",
    "- Learning rate;\n",
    "- Type of optimization/backpropagation technique;\n",
    "- Dropout rate;\n",
    "- Weight sharing;"
   ]
  },
  {
   "cell_type": "markdown",
   "metadata": {},
   "source": [
    "Now repeat all the previous steps (train, test etc..) but tuning the following parameters:\n",
    "1. Make the model \"wide\": Increase the number of neurons in the hidden layer; \n",
    "2. Make the model \"deep\": Increase the number of hidden layers neurons each;\n",
    "3. Dropout to deal with Overfitting;\n",
    "4. Increase Epochs to 50;\n",
    "5. Both \"wide\" and \"deep\": more hidden layers, each with more than 50 neurons\n",
    "\n",
    "After every step, analyse your results and draw some conclusions."
   ]
  },
  {
   "cell_type": "markdown",
   "metadata": {},
   "source": [
    "### 1. Make the model \"wide\": increase number of neurons in the hidden layer."
   ]
  },
  {
   "cell_type": "markdown",
   "metadata": {},
   "source": [
    "** Define the new variables. **"
   ]
  },
  {
   "cell_type": "code",
   "execution_count": 13,
   "metadata": {},
   "outputs": [],
   "source": [
    "input_num_units = 784\n",
    "hidden_num_units = 500\n",
    "output_num_units = 10\n",
    "epochs = 5\n",
    "batch_size = 128"
   ]
  },
  {
   "cell_type": "markdown",
   "metadata": {},
   "source": [
    "** Build the network. **"
   ]
  },
  {
   "cell_type": "code",
   "execution_count": 14,
   "metadata": {},
   "outputs": [
    {
     "name": "stderr",
     "output_type": "stream",
     "text": [
      "C:\\Users\\Zennaro\\AppData\\Local\\Continuum\\anaconda3\\lib\\site-packages\\ipykernel_launcher.py:1: UserWarning: Update your `Dense` call to the Keras 2 API: `Dense(input_dim=784, activation=\"relu\", units=500)`\n",
      "  \"\"\"Entry point for launching an IPython kernel.\n",
      "C:\\Users\\Zennaro\\AppData\\Local\\Continuum\\anaconda3\\lib\\site-packages\\ipykernel_launcher.py:1: UserWarning: Update your `Dense` call to the Keras 2 API: `Dense(input_dim=500, activation=\"softmax\", units=10)`\n",
      "  \"\"\"Entry point for launching an IPython kernel.\n"
     ]
    }
   ],
   "source": [
    "model_1 = Sequential([Dense(output_dim=hidden_num_units, input_dim=input_num_units, activation='relu'),Dense(output_dim=output_num_units, input_dim=hidden_num_units, activation='softmax'),\n",
    "])"
   ]
  },
  {
   "cell_type": "markdown",
   "metadata": {},
   "source": [
    "** Configure the network. **"
   ]
  },
  {
   "cell_type": "code",
   "execution_count": 15,
   "metadata": {},
   "outputs": [],
   "source": [
    "model_1.compile(loss='categorical_crossentropy', optimizer='adam', metrics=['accuracy'])"
   ]
  },
  {
   "cell_type": "markdown",
   "metadata": {},
   "source": [
    "** Train the network. **"
   ]
  },
  {
   "cell_type": "code",
   "execution_count": 16,
   "metadata": {},
   "outputs": [
    {
     "name": "stderr",
     "output_type": "stream",
     "text": [
      "C:\\Users\\Zennaro\\AppData\\Local\\Continuum\\anaconda3\\lib\\site-packages\\keras\\models.py:942: UserWarning: The `nb_epoch` argument in `fit` has been renamed `epochs`.\n",
      "  warnings.warn('The `nb_epoch` argument in `fit` '\n"
     ]
    },
    {
     "name": "stdout",
     "output_type": "stream",
     "text": [
      "Train on 42000 samples, validate on 18000 samples\n",
      "Epoch 1/5\n",
      "42000/42000 [==============================] - 12s 276us/step - loss: 0.3135 - acc: 0.9089 - val_loss: 0.1768 - val_acc: 0.9498\n",
      "Epoch 2/5\n",
      "42000/42000 [==============================] - 10s 237us/step - loss: 0.1303 - acc: 0.9623 - val_loss: 0.1286 - val_acc: 0.9627\n",
      "Epoch 3/5\n",
      "42000/42000 [==============================] - 10s 228us/step - loss: 0.0845 - acc: 0.9760 - val_loss: 0.1075 - val_acc: 0.9687\n",
      "Epoch 4/5\n",
      "42000/42000 [==============================] - 8s 202us/step - loss: 0.0592 - acc: 0.9827 - val_loss: 0.0933 - val_acc: 0.9720\n",
      "Epoch 5/5\n",
      "42000/42000 [==============================] - 9s 218us/step - loss: 0.0440 - acc: 0.9880 - val_loss: 0.0870 - val_acc: 0.9734\n"
     ]
    }
   ],
   "source": [
    "trained_model_1 = model_1.fit(train_images, train_labels, nb_epoch=epochs, batch_size=batch_size, validation_data=(val_images, val_labels))"
   ]
  },
  {
   "cell_type": "markdown",
   "metadata": {},
   "source": [
    "Considerations: what can you notice from these results? Is your model performing better than before?"
   ]
  },
  {
   "cell_type": "markdown",
   "metadata": {},
   "source": [
    "**Results**: the model should perform significantly better than before."
   ]
  },
  {
   "cell_type": "markdown",
   "metadata": {},
   "source": [
    "### 2. Make the model \"deep\": Increase the number of hidden layers."
   ]
  },
  {
   "cell_type": "markdown",
   "metadata": {},
   "source": [
    "** Define the new variables. **"
   ]
  },
  {
   "cell_type": "code",
   "execution_count": 17,
   "metadata": {},
   "outputs": [],
   "source": [
    "input_num_units = 784\n",
    "hidden1_num_units = 50\n",
    "hidden2_num_units = 50\n",
    "hidden3_num_units = 50\n",
    "hidden4_num_units = 50\n",
    "hidden5_num_units = 50\n",
    "output_num_units = 10\n",
    "\n",
    "epochs = 5\n",
    "batch_size = 128"
   ]
  },
  {
   "cell_type": "markdown",
   "metadata": {},
   "source": [
    "** Build the network. **"
   ]
  },
  {
   "cell_type": "code",
   "execution_count": 18,
   "metadata": {},
   "outputs": [
    {
     "name": "stderr",
     "output_type": "stream",
     "text": [
      "C:\\Users\\Zennaro\\AppData\\Local\\Continuum\\anaconda3\\lib\\site-packages\\ipykernel_launcher.py:2: UserWarning: Update your `Dense` call to the Keras 2 API: `Dense(input_dim=784, activation=\"relu\", units=50)`\n",
      "  \n",
      "C:\\Users\\Zennaro\\AppData\\Local\\Continuum\\anaconda3\\lib\\site-packages\\ipykernel_launcher.py:3: UserWarning: Update your `Dense` call to the Keras 2 API: `Dense(input_dim=50, activation=\"relu\", units=50)`\n",
      "  This is separate from the ipykernel package so we can avoid doing imports until\n",
      "C:\\Users\\Zennaro\\AppData\\Local\\Continuum\\anaconda3\\lib\\site-packages\\ipykernel_launcher.py:4: UserWarning: Update your `Dense` call to the Keras 2 API: `Dense(input_dim=50, activation=\"relu\", units=50)`\n",
      "  after removing the cwd from sys.path.\n",
      "C:\\Users\\Zennaro\\AppData\\Local\\Continuum\\anaconda3\\lib\\site-packages\\ipykernel_launcher.py:5: UserWarning: Update your `Dense` call to the Keras 2 API: `Dense(input_dim=50, activation=\"relu\", units=50)`\n",
      "  \"\"\"\n",
      "C:\\Users\\Zennaro\\AppData\\Local\\Continuum\\anaconda3\\lib\\site-packages\\ipykernel_launcher.py:6: UserWarning: Update your `Dense` call to the Keras 2 API: `Dense(input_dim=50, activation=\"relu\", units=50)`\n",
      "  \n",
      "C:\\Users\\Zennaro\\AppData\\Local\\Continuum\\anaconda3\\lib\\site-packages\\ipykernel_launcher.py:8: UserWarning: Update your `Dense` call to the Keras 2 API: `Dense(input_dim=50, activation=\"softmax\", units=10)`\n",
      "  \n"
     ]
    }
   ],
   "source": [
    "model_2 = Sequential([\n",
    " Dense(output_dim=hidden1_num_units, input_dim=input_num_units, activation='relu'),\n",
    " Dense(output_dim=hidden2_num_units, input_dim=hidden1_num_units, activation='relu'),\n",
    " Dense(output_dim=hidden3_num_units, input_dim=hidden2_num_units, activation='relu'),\n",
    " Dense(output_dim=hidden4_num_units, input_dim=hidden3_num_units, activation='relu'),\n",
    " Dense(output_dim=hidden5_num_units, input_dim=hidden4_num_units, activation='relu'),\n",
    "\n",
    "Dense(output_dim=output_num_units, input_dim=hidden5_num_units, activation='softmax'),\n",
    " ])"
   ]
  },
  {
   "cell_type": "markdown",
   "metadata": {},
   "source": [
    "** Configure the network. **"
   ]
  },
  {
   "cell_type": "code",
   "execution_count": 19,
   "metadata": {},
   "outputs": [],
   "source": [
    "model_2.compile(loss='categorical_crossentropy', optimizer='adam', metrics=['accuracy'])"
   ]
  },
  {
   "cell_type": "markdown",
   "metadata": {},
   "source": [
    "** Train the network. **"
   ]
  },
  {
   "cell_type": "code",
   "execution_count": 20,
   "metadata": {},
   "outputs": [
    {
     "name": "stderr",
     "output_type": "stream",
     "text": [
      "C:\\Users\\Zennaro\\AppData\\Local\\Continuum\\anaconda3\\lib\\site-packages\\keras\\models.py:942: UserWarning: The `nb_epoch` argument in `fit` has been renamed `epochs`.\n",
      "  warnings.warn('The `nb_epoch` argument in `fit` '\n"
     ]
    },
    {
     "name": "stdout",
     "output_type": "stream",
     "text": [
      "Train on 42000 samples, validate on 18000 samples\n",
      "Epoch 1/5\n",
      "42000/42000 [==============================] - 3s 74us/step - loss: 0.5670 - acc: 0.8239 - val_loss: 0.2359 - val_acc: 0.9302\n",
      "Epoch 2/5\n",
      "42000/42000 [==============================] - 2s 59us/step - loss: 0.1895 - acc: 0.9434 - val_loss: 0.1710 - val_acc: 0.9496\n",
      "Epoch 3/5\n",
      "42000/42000 [==============================] - 3s 60us/step - loss: 0.1392 - acc: 0.9586 - val_loss: 0.1556 - val_acc: 0.9534\n",
      "Epoch 4/5\n",
      "42000/42000 [==============================] - 2s 54us/step - loss: 0.1138 - acc: 0.9661 - val_loss: 0.1464 - val_acc: 0.9588\n",
      "Epoch 5/5\n",
      "42000/42000 [==============================] - 2s 54us/step - loss: 0.0966 - acc: 0.9707 - val_loss: 0.1309 - val_acc: 0.9614\n"
     ]
    }
   ],
   "source": [
    "trained_model_2 = model_2.fit(train_images, train_labels, nb_epoch=epochs, batch_size=batch_size, validation_data=(val_images, val_labels))"
   ]
  },
  {
   "cell_type": "markdown",
   "metadata": {},
   "source": [
    "Considerations: what can you notice from these results? Is your model performing better than before?"
   ]
  },
  {
   "cell_type": "markdown",
   "metadata": {},
   "source": [
    "**Results**: the model is performing slightly worst than in the previous point. This may be due to a little bit of overfitting. To deal with this, we will use the dropout technique."
   ]
  },
  {
   "cell_type": "markdown",
   "metadata": {},
   "source": [
    "### 3. Dropout"
   ]
  },
  {
   "cell_type": "markdown",
   "metadata": {},
   "source": [
    "** Define the new variables, remember to define also the dropout_ratio. **"
   ]
  },
  {
   "cell_type": "code",
   "execution_count": 21,
   "metadata": {},
   "outputs": [],
   "source": [
    "input_num_units = 784\n",
    "hidden1_num_units = 50\n",
    "hidden2_num_units = 50\n",
    "hidden3_num_units = 50\n",
    "hidden4_num_units = 50\n",
    "hidden5_num_units = 50\n",
    "output_num_units = 10\n",
    "\n",
    "epochs = 5\n",
    "batch_size = 128\n",
    "\n",
    "dropout_ratio = 0.2"
   ]
  },
  {
   "cell_type": "markdown",
   "metadata": {},
   "source": [
    "** Build the network. **"
   ]
  },
  {
   "cell_type": "code",
   "execution_count": 22,
   "metadata": {},
   "outputs": [
    {
     "name": "stderr",
     "output_type": "stream",
     "text": [
      "C:\\Users\\Zennaro\\AppData\\Local\\Continuum\\anaconda3\\lib\\site-packages\\ipykernel_launcher.py:4: UserWarning: Update your `Dense` call to the Keras 2 API: `Dense(input_dim=784, activation=\"relu\", units=50)`\n",
      "  after removing the cwd from sys.path.\n",
      "C:\\Users\\Zennaro\\AppData\\Local\\Continuum\\anaconda3\\lib\\site-packages\\ipykernel_launcher.py:6: UserWarning: Update your `Dense` call to the Keras 2 API: `Dense(input_dim=50, activation=\"relu\", units=50)`\n",
      "  \n",
      "C:\\Users\\Zennaro\\AppData\\Local\\Continuum\\anaconda3\\lib\\site-packages\\ipykernel_launcher.py:8: UserWarning: Update your `Dense` call to the Keras 2 API: `Dense(input_dim=50, activation=\"relu\", units=50)`\n",
      "  \n",
      "C:\\Users\\Zennaro\\AppData\\Local\\Continuum\\anaconda3\\lib\\site-packages\\ipykernel_launcher.py:10: UserWarning: Update your `Dense` call to the Keras 2 API: `Dense(input_dim=50, activation=\"relu\", units=50)`\n",
      "  # Remove the CWD from sys.path while we load stuff.\n",
      "C:\\Users\\Zennaro\\AppData\\Local\\Continuum\\anaconda3\\lib\\site-packages\\ipykernel_launcher.py:12: UserWarning: Update your `Dense` call to the Keras 2 API: `Dense(input_dim=50, activation=\"relu\", units=50)`\n",
      "  if sys.path[0] == '':\n",
      "C:\\Users\\Zennaro\\AppData\\Local\\Continuum\\anaconda3\\lib\\site-packages\\ipykernel_launcher.py:15: UserWarning: Update your `Dense` call to the Keras 2 API: `Dense(input_dim=50, activation=\"softmax\", units=10)`\n",
      "  from ipykernel import kernelapp as app\n"
     ]
    }
   ],
   "source": [
    "from keras.layers import Dropout\n",
    "\n",
    "model_3 = Sequential([\n",
    " Dense(output_dim=hidden1_num_units, input_dim=input_num_units, activation='relu'),\n",
    " Dropout(dropout_ratio),\n",
    " Dense(output_dim=hidden2_num_units, input_dim=hidden1_num_units, activation='relu'),\n",
    " Dropout(dropout_ratio),\n",
    " Dense(output_dim=hidden3_num_units, input_dim=hidden2_num_units, activation='relu'),\n",
    " Dropout(dropout_ratio),\n",
    " Dense(output_dim=hidden4_num_units, input_dim=hidden3_num_units, activation='relu'),\n",
    " Dropout(dropout_ratio),\n",
    " Dense(output_dim=hidden5_num_units, input_dim=hidden4_num_units, activation='relu'),\n",
    " Dropout(dropout_ratio),\n",
    "\n",
    "Dense(output_dim=output_num_units, input_dim=hidden5_num_units, activation='softmax'),\n",
    " ])"
   ]
  },
  {
   "cell_type": "markdown",
   "metadata": {},
   "source": [
    "** Configure the network. **"
   ]
  },
  {
   "cell_type": "code",
   "execution_count": 23,
   "metadata": {},
   "outputs": [],
   "source": [
    "model_3.compile(loss='categorical_crossentropy', optimizer='adam', metrics=['accuracy'])"
   ]
  },
  {
   "cell_type": "markdown",
   "metadata": {},
   "source": [
    "** Train the network. **"
   ]
  },
  {
   "cell_type": "code",
   "execution_count": 24,
   "metadata": {},
   "outputs": [
    {
     "name": "stderr",
     "output_type": "stream",
     "text": [
      "C:\\Users\\Zennaro\\AppData\\Local\\Continuum\\anaconda3\\lib\\site-packages\\keras\\models.py:942: UserWarning: The `nb_epoch` argument in `fit` has been renamed `epochs`.\n",
      "  warnings.warn('The `nb_epoch` argument in `fit` '\n"
     ]
    },
    {
     "name": "stdout",
     "output_type": "stream",
     "text": [
      "Train on 42000 samples, validate on 18000 samples\n",
      "Epoch 1/5\n",
      "42000/42000 [==============================] - 4s 91us/step - loss: 1.0440 - acc: 0.6449 - val_loss: 0.3157 - val_acc: 0.9101\n",
      "Epoch 2/5\n",
      "42000/42000 [==============================] - 3s 71us/step - loss: 0.4542 - acc: 0.8757 - val_loss: 0.2433 - val_acc: 0.9303\n",
      "Epoch 3/5\n",
      "42000/42000 [==============================] - 3s 68us/step - loss: 0.3586 - acc: 0.9045 - val_loss: 0.2156 - val_acc: 0.9421\n",
      "Epoch 4/5\n",
      "42000/42000 [==============================] - 3s 78us/step - loss: 0.3165 - acc: 0.9175 - val_loss: 0.1943 - val_acc: 0.9467\n",
      "Epoch 5/5\n",
      "42000/42000 [==============================] - 3s 64us/step - loss: 0.2886 - acc: 0.9237 - val_loss: 0.1831 - val_acc: 0.9512\n"
     ]
    }
   ],
   "source": [
    "trained_model_3 = model_3.fit(train_images, train_labels, nb_epoch=epochs, batch_size=batch_size, validation_data=(val_images, val_labels))"
   ]
  },
  {
   "cell_type": "markdown",
   "metadata": {},
   "source": [
    "Considerations: what can you notice from these results? Is your model improving?"
   ]
  },
  {
   "cell_type": "markdown",
   "metadata": {},
   "source": [
    "** Results**: There seems to be some problems, the model is not performing well enough. One possible reason may be that we are not using enough epochs to train the model. Let's try to increase the number of training epochs."
   ]
  },
  {
   "cell_type": "markdown",
   "metadata": {},
   "source": [
    "### 4. Increase training Epochs to 50.\n",
    "\n",
    "This will take a while."
   ]
  },
  {
   "cell_type": "markdown",
   "metadata": {},
   "source": [
    "** Define the new variables. **"
   ]
  },
  {
   "cell_type": "code",
   "execution_count": 25,
   "metadata": {},
   "outputs": [],
   "source": [
    "input_num_units = 784\n",
    "hidden1_num_units = 50\n",
    "hidden2_num_units = 50\n",
    "hidden3_num_units = 50\n",
    "hidden4_num_units = 50\n",
    "hidden5_num_units = 50\n",
    "output_num_units = 10\n",
    "\n",
    "epochs = 50\n",
    "batch_size = 128"
   ]
  },
  {
   "cell_type": "markdown",
   "metadata": {},
   "source": [
    "** Build the network. **"
   ]
  },
  {
   "cell_type": "code",
   "execution_count": 26,
   "metadata": {},
   "outputs": [
    {
     "name": "stderr",
     "output_type": "stream",
     "text": [
      "C:\\Users\\Zennaro\\AppData\\Local\\Continuum\\anaconda3\\lib\\site-packages\\ipykernel_launcher.py:2: UserWarning: Update your `Dense` call to the Keras 2 API: `Dense(input_dim=784, activation=\"relu\", units=50)`\n",
      "  \n",
      "C:\\Users\\Zennaro\\AppData\\Local\\Continuum\\anaconda3\\lib\\site-packages\\ipykernel_launcher.py:4: UserWarning: Update your `Dense` call to the Keras 2 API: `Dense(input_dim=50, activation=\"relu\", units=50)`\n",
      "  after removing the cwd from sys.path.\n",
      "C:\\Users\\Zennaro\\AppData\\Local\\Continuum\\anaconda3\\lib\\site-packages\\ipykernel_launcher.py:6: UserWarning: Update your `Dense` call to the Keras 2 API: `Dense(input_dim=50, activation=\"relu\", units=50)`\n",
      "  \n",
      "C:\\Users\\Zennaro\\AppData\\Local\\Continuum\\anaconda3\\lib\\site-packages\\ipykernel_launcher.py:8: UserWarning: Update your `Dense` call to the Keras 2 API: `Dense(input_dim=50, activation=\"relu\", units=50)`\n",
      "  \n",
      "C:\\Users\\Zennaro\\AppData\\Local\\Continuum\\anaconda3\\lib\\site-packages\\ipykernel_launcher.py:10: UserWarning: Update your `Dense` call to the Keras 2 API: `Dense(input_dim=50, activation=\"relu\", units=50)`\n",
      "  # Remove the CWD from sys.path while we load stuff.\n",
      "C:\\Users\\Zennaro\\AppData\\Local\\Continuum\\anaconda3\\lib\\site-packages\\ipykernel_launcher.py:13: UserWarning: Update your `Dense` call to the Keras 2 API: `Dense(input_dim=50, activation=\"softmax\", units=10)`\n",
      "  del sys.path[0]\n"
     ]
    }
   ],
   "source": [
    "model_4 = Sequential([\n",
    " Dense(output_dim=hidden1_num_units, input_dim=input_num_units, activation='relu'),\n",
    " Dropout(0.2),\n",
    " Dense(output_dim=hidden2_num_units, input_dim=hidden1_num_units, activation='relu'),\n",
    " Dropout(0.2),\n",
    " Dense(output_dim=hidden3_num_units, input_dim=hidden2_num_units, activation='relu'),\n",
    " Dropout(0.2),\n",
    " Dense(output_dim=hidden4_num_units, input_dim=hidden3_num_units, activation='relu'),\n",
    " Dropout(0.2),\n",
    " Dense(output_dim=hidden5_num_units, input_dim=hidden4_num_units, activation='relu'),\n",
    " Dropout(0.2),\n",
    "\n",
    "Dense(output_dim=output_num_units, input_dim=hidden5_num_units, activation='softmax'),\n",
    "])"
   ]
  },
  {
   "cell_type": "markdown",
   "metadata": {},
   "source": [
    "** Configure the network. **"
   ]
  },
  {
   "cell_type": "code",
   "execution_count": 27,
   "metadata": {},
   "outputs": [],
   "source": [
    "model_4.compile(loss='categorical_crossentropy', optimizer='adam', metrics=['accuracy'])"
   ]
  },
  {
   "cell_type": "markdown",
   "metadata": {},
   "source": [
    "** Train the network. **"
   ]
  },
  {
   "cell_type": "code",
   "execution_count": 28,
   "metadata": {},
   "outputs": [
    {
     "name": "stderr",
     "output_type": "stream",
     "text": [
      "C:\\Users\\Zennaro\\AppData\\Local\\Continuum\\anaconda3\\lib\\site-packages\\keras\\models.py:942: UserWarning: The `nb_epoch` argument in `fit` has been renamed `epochs`.\n",
      "  warnings.warn('The `nb_epoch` argument in `fit` '\n"
     ]
    },
    {
     "name": "stdout",
     "output_type": "stream",
     "text": [
      "Train on 42000 samples, validate on 18000 samples\n",
      "Epoch 1/50\n",
      "42000/42000 [==============================] - 5s 113us/step - loss: 1.0532 - acc: 0.6353 - val_loss: 0.3129 - val_acc: 0.9133\n",
      "Epoch 2/50\n",
      "42000/42000 [==============================] - 3s 68us/step - loss: 0.4358 - acc: 0.8801 - val_loss: 0.2397 - val_acc: 0.9361\n",
      "Epoch 3/50\n",
      "42000/42000 [==============================] - 3s 71us/step - loss: 0.3437 - acc: 0.9080 - val_loss: 0.2091 - val_acc: 0.9432\n",
      "Epoch 4/50\n",
      "42000/42000 [==============================] - 3s 72us/step - loss: 0.2978 - acc: 0.9222 - val_loss: 0.1913 - val_acc: 0.9481\n",
      "Epoch 5/50\n",
      "42000/42000 [==============================] - 3s 63us/step - loss: 0.2680 - acc: 0.9304 - val_loss: 0.1740 - val_acc: 0.9533\n",
      "Epoch 6/50\n",
      "42000/42000 [==============================] - 3s 66us/step - loss: 0.2550 - acc: 0.9344 - val_loss: 0.1823 - val_acc: 0.9532\n",
      "Epoch 7/50\n",
      "42000/42000 [==============================] - 2s 57us/step - loss: 0.2321 - acc: 0.9397 - val_loss: 0.1629 - val_acc: 0.9558\n",
      "Epoch 8/50\n",
      "42000/42000 [==============================] - 3s 75us/step - loss: 0.2164 - acc: 0.9424 - val_loss: 0.1547 - val_acc: 0.9576\n",
      "Epoch 9/50\n",
      "42000/42000 [==============================] - 3s 67us/step - loss: 0.2067 - acc: 0.9455 - val_loss: 0.1598 - val_acc: 0.9581\n",
      "Epoch 10/50\n",
      "42000/42000 [==============================] - 3s 66us/step - loss: 0.1961 - acc: 0.9483 - val_loss: 0.1563 - val_acc: 0.9589\n",
      "Epoch 11/50\n",
      "42000/42000 [==============================] - 3s 70us/step - loss: 0.1911 - acc: 0.9505 - val_loss: 0.1530 - val_acc: 0.9597\n",
      "Epoch 12/50\n",
      "42000/42000 [==============================] - 3s 67us/step - loss: 0.1856 - acc: 0.9527 - val_loss: 0.1457 - val_acc: 0.9615\n",
      "Epoch 13/50\n",
      "42000/42000 [==============================] - 2s 57us/step - loss: 0.1827 - acc: 0.9527 - val_loss: 0.1463 - val_acc: 0.9606\n",
      "Epoch 14/50\n",
      "42000/42000 [==============================] - 2s 55us/step - loss: 0.1730 - acc: 0.9536 - val_loss: 0.1451 - val_acc: 0.9618\n",
      "Epoch 15/50\n",
      "42000/42000 [==============================] - 3s 60us/step - loss: 0.1688 - acc: 0.9560 - val_loss: 0.1552 - val_acc: 0.9607\n",
      "Epoch 16/50\n",
      "42000/42000 [==============================] - 3s 75us/step - loss: 0.1630 - acc: 0.9566 - val_loss: 0.1462 - val_acc: 0.9630\n",
      "Epoch 17/50\n",
      "42000/42000 [==============================] - 3s 83us/step - loss: 0.1606 - acc: 0.9573 - val_loss: 0.1409 - val_acc: 0.9633\n",
      "Epoch 18/50\n",
      "42000/42000 [==============================] - 3s 67us/step - loss: 0.1585 - acc: 0.9584 - val_loss: 0.1428 - val_acc: 0.9633\n",
      "Epoch 19/50\n",
      "42000/42000 [==============================] - 4s 97us/step - loss: 0.1495 - acc: 0.9606 - val_loss: 0.1554 - val_acc: 0.9608\n",
      "Epoch 20/50\n",
      "42000/42000 [==============================] - 5s 128us/step - loss: 0.1482 - acc: 0.9607 - val_loss: 0.1504 - val_acc: 0.9633\n",
      "Epoch 21/50\n",
      "42000/42000 [==============================] - 4s 94us/step - loss: 0.1493 - acc: 0.9613 - val_loss: 0.1381 - val_acc: 0.9652\n",
      "Epoch 22/50\n",
      "42000/42000 [==============================] - 3s 81us/step - loss: 0.1436 - acc: 0.9617 - val_loss: 0.1423 - val_acc: 0.9643\n",
      "Epoch 23/50\n",
      "42000/42000 [==============================] - 3s 71us/step - loss: 0.1388 - acc: 0.9630 - val_loss: 0.1377 - val_acc: 0.9656\n",
      "Epoch 24/50\n",
      "42000/42000 [==============================] - 3s 77us/step - loss: 0.1443 - acc: 0.9612 - val_loss: 0.1535 - val_acc: 0.9624\n",
      "Epoch 25/50\n",
      "42000/42000 [==============================] - 3s 79us/step - loss: 0.1413 - acc: 0.9625 - val_loss: 0.1379 - val_acc: 0.9635\n",
      "Epoch 26/50\n",
      "42000/42000 [==============================] - 3s 80us/step - loss: 0.1339 - acc: 0.9651 - val_loss: 0.1404 - val_acc: 0.9639\n",
      "Epoch 27/50\n",
      "42000/42000 [==============================] - 3s 74us/step - loss: 0.1361 - acc: 0.9637 - val_loss: 0.1336 - val_acc: 0.9654\n",
      "Epoch 28/50\n",
      "42000/42000 [==============================] - 3s 80us/step - loss: 0.1290 - acc: 0.9661 - val_loss: 0.1351 - val_acc: 0.9654\n",
      "Epoch 29/50\n",
      "42000/42000 [==============================] - 4s 90us/step - loss: 0.1325 - acc: 0.9636 - val_loss: 0.1381 - val_acc: 0.9661\n",
      "Epoch 30/50\n",
      "42000/42000 [==============================] - 3s 76us/step - loss: 0.1303 - acc: 0.9647 - val_loss: 0.1368 - val_acc: 0.9660\n",
      "Epoch 31/50\n",
      "42000/42000 [==============================] - 4s 98us/step - loss: 0.1283 - acc: 0.9653 - val_loss: 0.1350 - val_acc: 0.9645\n",
      "Epoch 32/50\n",
      "42000/42000 [==============================] - 4s 99us/step - loss: 0.1233 - acc: 0.9682 - val_loss: 0.1338 - val_acc: 0.9653\n",
      "Epoch 33/50\n",
      "42000/42000 [==============================] - 4s 84us/step - loss: 0.1213 - acc: 0.9679 - val_loss: 0.1423 - val_acc: 0.9647\n",
      "Epoch 34/50\n",
      "42000/42000 [==============================] - 4s 93us/step - loss: 0.1213 - acc: 0.9676 - val_loss: 0.1401 - val_acc: 0.9655\n",
      "Epoch 35/50\n",
      "42000/42000 [==============================] - 4s 84us/step - loss: 0.1197 - acc: 0.9668 - val_loss: 0.1538 - val_acc: 0.9633\n",
      "Epoch 36/50\n",
      "42000/42000 [==============================] - 4s 85us/step - loss: 0.1170 - acc: 0.9679 - val_loss: 0.1395 - val_acc: 0.9652\n",
      "Epoch 37/50\n",
      "42000/42000 [==============================] - 3s 69us/step - loss: 0.1157 - acc: 0.9683 - val_loss: 0.1455 - val_acc: 0.9660\n",
      "Epoch 38/50\n",
      "42000/42000 [==============================] - 3s 72us/step - loss: 0.1197 - acc: 0.9670 - val_loss: 0.1404 - val_acc: 0.9658\n",
      "Epoch 39/50\n",
      "42000/42000 [==============================] - 3s 66us/step - loss: 0.1117 - acc: 0.9695 - val_loss: 0.1402 - val_acc: 0.9669\n",
      "Epoch 40/50\n",
      "42000/42000 [==============================] - 3s 71us/step - loss: 0.1157 - acc: 0.9681 - val_loss: 0.1392 - val_acc: 0.9668\n",
      "Epoch 41/50\n",
      "42000/42000 [==============================] - 3s 66us/step - loss: 0.1143 - acc: 0.9695 - val_loss: 0.1360 - val_acc: 0.9664\n",
      "Epoch 42/50\n",
      "42000/42000 [==============================] - 3s 63us/step - loss: 0.1098 - acc: 0.9698 - val_loss: 0.1393 - val_acc: 0.9654\n",
      "Epoch 43/50\n",
      "42000/42000 [==============================] - 3s 61us/step - loss: 0.1149 - acc: 0.9694 - val_loss: 0.1391 - val_acc: 0.9663\n",
      "Epoch 44/50\n",
      "42000/42000 [==============================] - 3s 63us/step - loss: 0.1116 - acc: 0.9704 - val_loss: 0.1420 - val_acc: 0.9652\n",
      "Epoch 45/50\n",
      "42000/42000 [==============================] - 3s 65us/step - loss: 0.1110 - acc: 0.9697 - val_loss: 0.1447 - val_acc: 0.9667\n",
      "Epoch 46/50\n",
      "42000/42000 [==============================] - 3s 77us/step - loss: 0.1047 - acc: 0.9717 - val_loss: 0.1444 - val_acc: 0.9662\n",
      "Epoch 47/50\n",
      "42000/42000 [==============================] - 3s 83us/step - loss: 0.1081 - acc: 0.9708 - val_loss: 0.1410 - val_acc: 0.9674\n",
      "Epoch 48/50\n",
      "42000/42000 [==============================] - 3s 82us/step - loss: 0.1066 - acc: 0.9714 - val_loss: 0.1370 - val_acc: 0.9666\n",
      "Epoch 49/50\n",
      "42000/42000 [==============================] - 4s 102us/step - loss: 0.1097 - acc: 0.9707 - val_loss: 0.1306 - val_acc: 0.9686\n",
      "Epoch 50/50\n",
      "42000/42000 [==============================] - 4s 93us/step - loss: 0.1011 - acc: 0.9719 - val_loss: 0.1418 - val_acc: 0.9660\n"
     ]
    }
   ],
   "source": [
    "trained_model_4 = model_4.fit(train_images, train_labels, nb_epoch=epochs, batch_size=batch_size, validation_data=(val_images, val_labels))"
   ]
  },
  {
   "cell_type": "markdown",
   "metadata": {},
   "source": [
    "Considerations: what can you notice from these results? Has the accuracy increased?"
   ]
  },
  {
   "cell_type": "markdown",
   "metadata": {},
   "source": [
    "**Results**: Now seems better, there is an increase in the accuracy."
   ]
  },
  {
   "cell_type": "markdown",
   "metadata": {},
   "source": [
    "### 5. Make the model \"wide\" and \"deep\": more hidden layers, each with more than 50 neurons."
   ]
  },
  {
   "cell_type": "markdown",
   "metadata": {},
   "source": [
    "** Define the new variables.**"
   ]
  },
  {
   "cell_type": "code",
   "execution_count": 29,
   "metadata": {},
   "outputs": [],
   "source": [
    "input_num_units = 784\n",
    "hidden1_num_units = 500\n",
    "hidden2_num_units = 500\n",
    "hidden3_num_units = 500\n",
    "hidden4_num_units = 500\n",
    "hidden5_num_units = 500\n",
    "output_num_units = 10\n",
    "\n",
    "epochs = 25\n",
    "batch_size = 128"
   ]
  },
  {
   "cell_type": "markdown",
   "metadata": {},
   "source": [
    "** Build the network. **"
   ]
  },
  {
   "cell_type": "code",
   "execution_count": 30,
   "metadata": {},
   "outputs": [
    {
     "name": "stderr",
     "output_type": "stream",
     "text": [
      "C:\\Users\\Zennaro\\AppData\\Local\\Continuum\\anaconda3\\lib\\site-packages\\ipykernel_launcher.py:2: UserWarning: Update your `Dense` call to the Keras 2 API: `Dense(input_dim=784, activation=\"relu\", units=500)`\n",
      "  \n",
      "C:\\Users\\Zennaro\\AppData\\Local\\Continuum\\anaconda3\\lib\\site-packages\\ipykernel_launcher.py:4: UserWarning: Update your `Dense` call to the Keras 2 API: `Dense(input_dim=500, activation=\"relu\", units=500)`\n",
      "  after removing the cwd from sys.path.\n",
      "C:\\Users\\Zennaro\\AppData\\Local\\Continuum\\anaconda3\\lib\\site-packages\\ipykernel_launcher.py:6: UserWarning: Update your `Dense` call to the Keras 2 API: `Dense(input_dim=500, activation=\"relu\", units=500)`\n",
      "  \n",
      "C:\\Users\\Zennaro\\AppData\\Local\\Continuum\\anaconda3\\lib\\site-packages\\ipykernel_launcher.py:8: UserWarning: Update your `Dense` call to the Keras 2 API: `Dense(input_dim=500, activation=\"relu\", units=500)`\n",
      "  \n",
      "C:\\Users\\Zennaro\\AppData\\Local\\Continuum\\anaconda3\\lib\\site-packages\\ipykernel_launcher.py:10: UserWarning: Update your `Dense` call to the Keras 2 API: `Dense(input_dim=500, activation=\"relu\", units=500)`\n",
      "  # Remove the CWD from sys.path while we load stuff.\n",
      "C:\\Users\\Zennaro\\AppData\\Local\\Continuum\\anaconda3\\lib\\site-packages\\ipykernel_launcher.py:13: UserWarning: Update your `Dense` call to the Keras 2 API: `Dense(input_dim=500, activation=\"softmax\", units=10)`\n",
      "  del sys.path[0]\n"
     ]
    }
   ],
   "source": [
    "model_5 = Sequential([\n",
    " Dense(output_dim=hidden1_num_units, input_dim=input_num_units, activation='relu'),\n",
    " Dropout(0.2),\n",
    " Dense(output_dim=hidden2_num_units, input_dim=hidden1_num_units, activation='relu'),\n",
    " Dropout(0.2),\n",
    " Dense(output_dim=hidden3_num_units, input_dim=hidden2_num_units, activation='relu'),\n",
    " Dropout(0.2),\n",
    " Dense(output_dim=hidden4_num_units, input_dim=hidden3_num_units, activation='relu'),\n",
    " Dropout(0.2),\n",
    " Dense(output_dim=hidden5_num_units, input_dim=hidden4_num_units, activation='relu'),\n",
    " Dropout(0.2),\n",
    "\n",
    "Dense(output_dim=output_num_units, input_dim=hidden5_num_units, activation='softmax'),\n",
    " ])"
   ]
  },
  {
   "cell_type": "markdown",
   "metadata": {},
   "source": [
    "** Configure the network. **"
   ]
  },
  {
   "cell_type": "code",
   "execution_count": 31,
   "metadata": {},
   "outputs": [],
   "source": [
    "model_5.compile(loss='categorical_crossentropy', optimizer='adam', metrics=['accuracy'])"
   ]
  },
  {
   "cell_type": "markdown",
   "metadata": {},
   "source": [
    "** Train the network. Use 25 epochs if 50 takes too long. **"
   ]
  },
  {
   "cell_type": "code",
   "execution_count": 32,
   "metadata": {},
   "outputs": [
    {
     "name": "stderr",
     "output_type": "stream",
     "text": [
      "C:\\Users\\Zennaro\\AppData\\Local\\Continuum\\anaconda3\\lib\\site-packages\\keras\\models.py:942: UserWarning: The `nb_epoch` argument in `fit` has been renamed `epochs`.\n",
      "  warnings.warn('The `nb_epoch` argument in `fit` '\n"
     ]
    },
    {
     "name": "stdout",
     "output_type": "stream",
     "text": [
      "Train on 42000 samples, validate on 18000 samples\n",
      "Epoch 1/25\n",
      "42000/42000 [==============================] - 37s 883us/step - loss: 0.3495 - acc: 0.8905 - val_loss: 0.1545 - val_acc: 0.9553\n",
      "Epoch 2/25\n",
      "42000/42000 [==============================] - 34s 813us/step - loss: 0.1501 - acc: 0.9565 - val_loss: 0.1549 - val_acc: 0.9563\n",
      "Epoch 3/25\n",
      "42000/42000 [==============================] - 30s 716us/step - loss: 0.1082 - acc: 0.9694 - val_loss: 0.1109 - val_acc: 0.9689\n",
      "Epoch 4/25\n",
      "42000/42000 [==============================] - 29s 687us/step - loss: 0.0890 - acc: 0.9734 - val_loss: 0.1230 - val_acc: 0.9687\n",
      "Epoch 5/25\n",
      "42000/42000 [==============================] - 28s 664us/step - loss: 0.0783 - acc: 0.9767 - val_loss: 0.1046 - val_acc: 0.9723\n",
      "Epoch 6/25\n",
      "42000/42000 [==============================] - 31s 735us/step - loss: 0.0651 - acc: 0.9809 - val_loss: 0.1046 - val_acc: 0.9753\n",
      "Epoch 7/25\n",
      "42000/42000 [==============================] - 32s 759us/step - loss: 0.0564 - acc: 0.9836 - val_loss: 0.1029 - val_acc: 0.9740\n",
      "Epoch 8/25\n",
      "42000/42000 [==============================] - 30s 711us/step - loss: 0.0555 - acc: 0.9835 - val_loss: 0.0957 - val_acc: 0.9739\n",
      "Epoch 9/25\n",
      "42000/42000 [==============================] - 30s 724us/step - loss: 0.0474 - acc: 0.9862 - val_loss: 0.1007 - val_acc: 0.9743\n",
      "Epoch 10/25\n",
      "42000/42000 [==============================] - 29s 683us/step - loss: 0.0445 - acc: 0.9871 - val_loss: 0.0967 - val_acc: 0.9764\n",
      "Epoch 11/25\n",
      "42000/42000 [==============================] - 29s 685us/step - loss: 0.0446 - acc: 0.9865 - val_loss: 0.1138 - val_acc: 0.9721\n",
      "Epoch 12/25\n",
      "42000/42000 [==============================] - 30s 713us/step - loss: 0.0401 - acc: 0.9888 - val_loss: 0.0997 - val_acc: 0.9779\n",
      "Epoch 13/25\n",
      "42000/42000 [==============================] - 33s 779us/step - loss: 0.0383 - acc: 0.9888 - val_loss: 0.1151 - val_acc: 0.9748\n",
      "Epoch 14/25\n",
      "42000/42000 [==============================] - 32s 761us/step - loss: 0.0364 - acc: 0.9893 - val_loss: 0.1085 - val_acc: 0.9766\n",
      "Epoch 15/25\n",
      "42000/42000 [==============================] - 30s 725us/step - loss: 0.0371 - acc: 0.9895 - val_loss: 0.1207 - val_acc: 0.9757\n",
      "Epoch 16/25\n",
      "42000/42000 [==============================] - 28s 662us/step - loss: 0.0336 - acc: 0.9908 - val_loss: 0.1071 - val_acc: 0.9777\n",
      "Epoch 17/25\n",
      "42000/42000 [==============================] - 26s 630us/step - loss: 0.0283 - acc: 0.9919 - val_loss: 0.1185 - val_acc: 0.9770\n",
      "Epoch 18/25\n",
      "42000/42000 [==============================] - 27s 654us/step - loss: 0.0314 - acc: 0.9919 - val_loss: 0.1272 - val_acc: 0.9753\n",
      "Epoch 19/25\n",
      "42000/42000 [==============================] - 30s 722us/step - loss: 0.0306 - acc: 0.9915 - val_loss: 0.1113 - val_acc: 0.9786\n",
      "Epoch 20/25\n",
      "42000/42000 [==============================] - 30s 723us/step - loss: 0.0312 - acc: 0.9913 - val_loss: 0.1192 - val_acc: 0.9783\n",
      "Epoch 21/25\n",
      "42000/42000 [==============================] - 33s 791us/step - loss: 0.0247 - acc: 0.9930 - val_loss: 0.1041 - val_acc: 0.9799\n",
      "Epoch 22/25\n",
      "42000/42000 [==============================] - 28s 666us/step - loss: 0.0262 - acc: 0.9929 - val_loss: 0.1353 - val_acc: 0.9785\n",
      "Epoch 23/25\n",
      "42000/42000 [==============================] - 31s 742us/step - loss: 0.0288 - acc: 0.9920 - val_loss: 0.1175 - val_acc: 0.9778\n",
      "Epoch 24/25\n",
      "42000/42000 [==============================] - 26s 607us/step - loss: 0.0288 - acc: 0.9924 - val_loss: 0.1261 - val_acc: 0.9768\n",
      "Epoch 25/25\n",
      "42000/42000 [==============================] - 26s 628us/step - loss: 0.0240 - acc: 0.9935 - val_loss: 0.1116 - val_acc: 0.9791\n"
     ]
    }
   ],
   "source": [
    "trained_model_5 = model_5.fit(train_images, train_labels, nb_epoch=epochs, batch_size=batch_size, validation_data=(val_images, val_labels))"
   ]
  },
  {
   "cell_type": "markdown",
   "metadata": {},
   "source": [
    "Considerations: what do you think about your final model?\n",
    "It seems that we obtained our final solution model. Let's evaluate it with some predictions."
   ]
  },
  {
   "cell_type": "markdown",
   "metadata": {},
   "source": [
    "**Results**: Finally we get our very good model!"
   ]
  },
  {
   "cell_type": "markdown",
   "metadata": {},
   "source": [
    "** Make some predictions and Evaluate the network. **"
   ]
  },
  {
   "cell_type": "code",
   "execution_count": 33,
   "metadata": {},
   "outputs": [
    {
     "name": "stdout",
     "output_type": "stream",
     "text": [
      "[7 2 1 ... 4 5 6]\n"
     ]
    }
   ],
   "source": [
    "pred_final = model_5.predict_classes(test_images)\n",
    "print(pred_final)"
   ]
  },
  {
   "cell_type": "code",
   "execution_count": 34,
   "metadata": {},
   "outputs": [
    {
     "name": "stdout",
     "output_type": "stream",
     "text": [
      "10000/10000 [==============================] - 3s 313us/step\n"
     ]
    }
   ],
   "source": [
    "test_loss_final, test_acc_final = model_5.evaluate(test_images, test_labels) "
   ]
  },
  {
   "cell_type": "code",
   "execution_count": 35,
   "metadata": {},
   "outputs": [
    {
     "name": "stdout",
     "output_type": "stream",
     "text": [
      "test_acc: 0.9807\n"
     ]
    }
   ],
   "source": [
    "print('test_acc:', test_acc_final)"
   ]
  },
  {
   "cell_type": "markdown",
   "metadata": {},
   "source": [
    "### Hyperparameters Optimization - Grid Search\n",
    "\n",
    "Instead of proceeding with a \"trial and error\" approach we can also use GridSearch to combine all the hyperparameters we want to tune, or some of them. What you have to do is to use Sequential() model in Keras as a part of the Scikit-Learn workflow via the wrappers. \n",
    "Check out how this workflow works.\n",
    "\n",
    "\n",
    "Please note that without GPU is extremely time consuming to tune all the hyperparameters in one shoot, by using an appropriate number of epochs. For this reason, in this example the idea is for you to understand how you can use GridSerach with Keras Model, but you will probably not be able to obtain an excellent model.\n",
    "\n",
    "For this reason, try to tune the number of neurons in the hidden layers (more than one hidden layer) with just 5-10 epochs."
   ]
  },
  {
   "cell_type": "markdown",
   "metadata": {},
   "source": [
    "** Import GridSearchCV and KerasClassifier.**"
   ]
  },
  {
   "cell_type": "code",
   "execution_count": 36,
   "metadata": {},
   "outputs": [],
   "source": [
    "import numpy\n",
    "from sklearn.model_selection import GridSearchCV\n",
    "from keras.models import Sequential\n",
    "from keras.layers import Dense\n",
    "from keras.layers import Dropout\n",
    "from keras.wrappers.scikit_learn import KerasClassifier\n",
    "from keras.constraints import maxnorm"
   ]
  },
  {
   "cell_type": "code",
   "execution_count": 37,
   "metadata": {},
   "outputs": [],
   "source": [
    "input_num_units = 784\n",
    "output_num_units = 10"
   ]
  },
  {
   "cell_type": "markdown",
   "metadata": {},
   "source": [
    "** Create a function called `create_model` in which you build your KerasClassifier with number of hidden units equal to a general variable (you can call this `neurons`). Inside the function you should then also compile the model.**"
   ]
  },
  {
   "cell_type": "code",
   "execution_count": 38,
   "metadata": {},
   "outputs": [],
   "source": [
    "# Function to create model, required for KerasClassifier\n",
    "def create_model(neurons=1):\n",
    "  \n",
    "    model = Sequential()  \n",
    "    model.add(Dense(output_dim=neurons, input_dim=input_num_units, activation='relu'))\n",
    "    model.add(Dropout(0.2))\n",
    "    model.add(Dense(output_dim=neurons, input_dim=neurons, activation='relu'))\n",
    "    model.add(Dropout(0.2))\n",
    "    model.add(Dense(output_dim=neurons, input_dim=neurons, activation='relu'))\n",
    "    model.add(Dropout(0.2))\n",
    "    model.add(Dense(output_dim=neurons, input_dim=neurons, activation='relu'))\n",
    "    model.add(Dropout(0.2))\n",
    "    model.add(Dense(output_dim=neurons, input_dim=neurons, activation='relu'))\n",
    "    model.add(Dropout(0.2))\n",
    "    model.add(Dense(output_dim=output_num_units, input_dim=neurons, activation='softmax'))\n",
    "    model.compile(loss='categorical_crossentropy', optimizer='adam', metrics=['accuracy'])\n",
    "    return model"
   ]
  },
  {
   "cell_type": "code",
   "execution_count": 39,
   "metadata": {},
   "outputs": [],
   "source": [
    "# Fix random seed for reproducibility\n",
    "seed = 7\n",
    "numpy.random.seed(seed)\n"
   ]
  },
  {
   "cell_type": "markdown",
   "metadata": {},
   "source": [
    "** Create a model wrapper.**"
   ]
  },
  {
   "cell_type": "code",
   "execution_count": 40,
   "metadata": {},
   "outputs": [],
   "source": [
    "model = KerasClassifier(build_fn=create_model, epochs=5, batch_size=32, verbose=0)"
   ]
  },
  {
   "cell_type": "markdown",
   "metadata": {},
   "source": [
    "** Create a dictionary of parameters grid for the number of neurons in the hidden layer.**"
   ]
  },
  {
   "cell_type": "code",
   "execution_count": 41,
   "metadata": {},
   "outputs": [],
   "source": [
    "neurons = [50, 100, 250, 500]\n",
    "param_grid = dict(neurons=neurons) "
   ]
  },
  {
   "cell_type": "markdown",
   "metadata": {},
   "source": [
    "** Grid Search: use `GridSearchCV`with the model you have obtained from the wrapper as estimator and the dictionary you have just created as param_grid.**"
   ]
  },
  {
   "cell_type": "code",
   "execution_count": 42,
   "metadata": {},
   "outputs": [],
   "source": [
    "grid = GridSearchCV(estimator=model, param_grid=param_grid, n_jobs=None)"
   ]
  },
  {
   "cell_type": "markdown",
   "metadata": {},
   "source": [
    "** Fit the result from the Grid Search, call your result `grid_result`. **"
   ]
  },
  {
   "cell_type": "code",
   "execution_count": 43,
   "metadata": {},
   "outputs": [
    {
     "name": "stderr",
     "output_type": "stream",
     "text": [
      "C:\\Users\\Zennaro\\AppData\\Local\\Continuum\\anaconda3\\lib\\site-packages\\ipykernel_launcher.py:11: UserWarning: Update your `Dense` call to the Keras 2 API: `Dense(input_dim=784, activation=\"relu\", units=50)`\n",
      "  # This is added back by InteractiveShellApp.init_path()\n",
      "C:\\Users\\Zennaro\\AppData\\Local\\Continuum\\anaconda3\\lib\\site-packages\\ipykernel_launcher.py:13: UserWarning: Update your `Dense` call to the Keras 2 API: `Dense(input_dim=50, activation=\"relu\", units=50)`\n",
      "  del sys.path[0]\n",
      "C:\\Users\\Zennaro\\AppData\\Local\\Continuum\\anaconda3\\lib\\site-packages\\ipykernel_launcher.py:15: UserWarning: Update your `Dense` call to the Keras 2 API: `Dense(input_dim=50, activation=\"relu\", units=50)`\n",
      "  from ipykernel import kernelapp as app\n",
      "C:\\Users\\Zennaro\\AppData\\Local\\Continuum\\anaconda3\\lib\\site-packages\\ipykernel_launcher.py:17: UserWarning: Update your `Dense` call to the Keras 2 API: `Dense(input_dim=50, activation=\"relu\", units=50)`\n",
      "C:\\Users\\Zennaro\\AppData\\Local\\Continuum\\anaconda3\\lib\\site-packages\\ipykernel_launcher.py:19: UserWarning: Update your `Dense` call to the Keras 2 API: `Dense(input_dim=50, activation=\"relu\", units=50)`\n",
      "C:\\Users\\Zennaro\\AppData\\Local\\Continuum\\anaconda3\\lib\\site-packages\\ipykernel_launcher.py:21: UserWarning: Update your `Dense` call to the Keras 2 API: `Dense(input_dim=50, activation=\"softmax\", units=10)`\n",
      "C:\\Users\\Zennaro\\AppData\\Local\\Continuum\\anaconda3\\lib\\site-packages\\ipykernel_launcher.py:11: UserWarning: Update your `Dense` call to the Keras 2 API: `Dense(input_dim=784, activation=\"relu\", units=100)`\n",
      "  # This is added back by InteractiveShellApp.init_path()\n",
      "C:\\Users\\Zennaro\\AppData\\Local\\Continuum\\anaconda3\\lib\\site-packages\\ipykernel_launcher.py:13: UserWarning: Update your `Dense` call to the Keras 2 API: `Dense(input_dim=100, activation=\"relu\", units=100)`\n",
      "  del sys.path[0]\n",
      "C:\\Users\\Zennaro\\AppData\\Local\\Continuum\\anaconda3\\lib\\site-packages\\ipykernel_launcher.py:15: UserWarning: Update your `Dense` call to the Keras 2 API: `Dense(input_dim=100, activation=\"relu\", units=100)`\n",
      "  from ipykernel import kernelapp as app\n",
      "C:\\Users\\Zennaro\\AppData\\Local\\Continuum\\anaconda3\\lib\\site-packages\\ipykernel_launcher.py:17: UserWarning: Update your `Dense` call to the Keras 2 API: `Dense(input_dim=100, activation=\"relu\", units=100)`\n",
      "C:\\Users\\Zennaro\\AppData\\Local\\Continuum\\anaconda3\\lib\\site-packages\\ipykernel_launcher.py:19: UserWarning: Update your `Dense` call to the Keras 2 API: `Dense(input_dim=100, activation=\"relu\", units=100)`\n",
      "C:\\Users\\Zennaro\\AppData\\Local\\Continuum\\anaconda3\\lib\\site-packages\\ipykernel_launcher.py:21: UserWarning: Update your `Dense` call to the Keras 2 API: `Dense(input_dim=100, activation=\"softmax\", units=10)`\n",
      "C:\\Users\\Zennaro\\AppData\\Local\\Continuum\\anaconda3\\lib\\site-packages\\ipykernel_launcher.py:11: UserWarning: Update your `Dense` call to the Keras 2 API: `Dense(input_dim=784, activation=\"relu\", units=250)`\n",
      "  # This is added back by InteractiveShellApp.init_path()\n",
      "C:\\Users\\Zennaro\\AppData\\Local\\Continuum\\anaconda3\\lib\\site-packages\\ipykernel_launcher.py:13: UserWarning: Update your `Dense` call to the Keras 2 API: `Dense(input_dim=250, activation=\"relu\", units=250)`\n",
      "  del sys.path[0]\n",
      "C:\\Users\\Zennaro\\AppData\\Local\\Continuum\\anaconda3\\lib\\site-packages\\ipykernel_launcher.py:15: UserWarning: Update your `Dense` call to the Keras 2 API: `Dense(input_dim=250, activation=\"relu\", units=250)`\n",
      "  from ipykernel import kernelapp as app\n",
      "C:\\Users\\Zennaro\\AppData\\Local\\Continuum\\anaconda3\\lib\\site-packages\\ipykernel_launcher.py:17: UserWarning: Update your `Dense` call to the Keras 2 API: `Dense(input_dim=250, activation=\"relu\", units=250)`\n",
      "C:\\Users\\Zennaro\\AppData\\Local\\Continuum\\anaconda3\\lib\\site-packages\\ipykernel_launcher.py:19: UserWarning: Update your `Dense` call to the Keras 2 API: `Dense(input_dim=250, activation=\"relu\", units=250)`\n",
      "C:\\Users\\Zennaro\\AppData\\Local\\Continuum\\anaconda3\\lib\\site-packages\\ipykernel_launcher.py:21: UserWarning: Update your `Dense` call to the Keras 2 API: `Dense(input_dim=250, activation=\"softmax\", units=10)`\n",
      "C:\\Users\\Zennaro\\AppData\\Local\\Continuum\\anaconda3\\lib\\site-packages\\ipykernel_launcher.py:11: UserWarning: Update your `Dense` call to the Keras 2 API: `Dense(input_dim=784, activation=\"relu\", units=500)`\n",
      "  # This is added back by InteractiveShellApp.init_path()\n",
      "C:\\Users\\Zennaro\\AppData\\Local\\Continuum\\anaconda3\\lib\\site-packages\\ipykernel_launcher.py:13: UserWarning: Update your `Dense` call to the Keras 2 API: `Dense(input_dim=500, activation=\"relu\", units=500)`\n",
      "  del sys.path[0]\n",
      "C:\\Users\\Zennaro\\AppData\\Local\\Continuum\\anaconda3\\lib\\site-packages\\ipykernel_launcher.py:15: UserWarning: Update your `Dense` call to the Keras 2 API: `Dense(input_dim=500, activation=\"relu\", units=500)`\n",
      "  from ipykernel import kernelapp as app\n",
      "C:\\Users\\Zennaro\\AppData\\Local\\Continuum\\anaconda3\\lib\\site-packages\\ipykernel_launcher.py:17: UserWarning: Update your `Dense` call to the Keras 2 API: `Dense(input_dim=500, activation=\"relu\", units=500)`\n",
      "C:\\Users\\Zennaro\\AppData\\Local\\Continuum\\anaconda3\\lib\\site-packages\\ipykernel_launcher.py:19: UserWarning: Update your `Dense` call to the Keras 2 API: `Dense(input_dim=500, activation=\"relu\", units=500)`\n",
      "C:\\Users\\Zennaro\\AppData\\Local\\Continuum\\anaconda3\\lib\\site-packages\\ipykernel_launcher.py:21: UserWarning: Update your `Dense` call to the Keras 2 API: `Dense(input_dim=500, activation=\"softmax\", units=10)`\n"
     ]
    }
   ],
   "source": [
    "grid_result = grid.fit(train_images, train_labels)"
   ]
  },
  {
   "cell_type": "markdown",
   "metadata": {},
   "source": [
    "** Let's print some results. Fill in the #TO DOs with the best_score and best_params that you got after fitting. **"
   ]
  },
  {
   "cell_type": "code",
   "execution_count": 44,
   "metadata": {},
   "outputs": [
    {
     "name": "stdout",
     "output_type": "stream",
     "text": [
      "Best: 0.966071 using {'neurons': 250}\n",
      "0.946095 (0.003069) with: {'neurons': 50}\n",
      "0.961833 (0.001098) with: {'neurons': 100}\n",
      "0.966071 (0.002458) with: {'neurons': 250}\n",
      "0.965262 (0.000962) with: {'neurons': 500}\n"
     ]
    }
   ],
   "source": [
    "print(\"Best: %f using %s\" % (grid_result.best_score_, grid_result.best_params_)) #TO DO, #TO DO\n",
    "means = grid_result.cv_results_['mean_test_score']\n",
    "stds = grid_result.cv_results_['std_test_score']\n",
    "params = grid_result.cv_results_['params']\n",
    "for mean, stdev, param in zip(means, stds, params):\n",
    "    print(\"%f (%f) with: %r\" % (mean, stdev, param))\n",
    "    "
   ]
  },
  {
   "cell_type": "code",
   "execution_count": null,
   "metadata": {},
   "outputs": [],
   "source": []
  }
 ],
 "metadata": {
  "kernelspec": {
   "display_name": "Python 3",
   "language": "python",
   "name": "python3"
  },
  "language_info": {
   "codemirror_mode": {
    "name": "ipython",
    "version": 3
   },
   "file_extension": ".py",
   "mimetype": "text/x-python",
   "name": "python",
   "nbconvert_exporter": "python",
   "pygments_lexer": "ipython3",
   "version": "3.6.4"
  }
 },
 "nbformat": 4,
 "nbformat_minor": 2
}
